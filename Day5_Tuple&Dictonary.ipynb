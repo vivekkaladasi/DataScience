{
  "nbformat": 4,
  "nbformat_minor": 0,
  "metadata": {
    "colab": {
      "provenance": [],
      "authorship_tag": "ABX9TyOTcqv5uNgA570KC3C9Xmn8",
      "include_colab_link": true
    },
    "kernelspec": {
      "name": "python3",
      "display_name": "Python 3"
    },
    "language_info": {
      "name": "python"
    }
  },
  "cells": [
    {
      "cell_type": "markdown",
      "metadata": {
        "id": "view-in-github",
        "colab_type": "text"
      },
      "source": [
        "<a href=\"https://colab.research.google.com/github/vivekkaladasi/DataScience/blob/main/Day5_Tuple%26Dictonary.ipynb\" target=\"_parent\"><img src=\"https://colab.research.google.com/assets/colab-badge.svg\" alt=\"Open In Colab\"/></a>"
      ]
    },
    {
      "cell_type": "markdown",
      "source": [
        "# Tuples"
      ],
      "metadata": {
        "id": "dPNExZLyhIdO"
      }
    },
    {
      "cell_type": "markdown",
      "source": [
        "1. tuple is a data structure\n",
        "2. it is immutable\n",
        "3. it should have ()\n",
        "4. it allows duplicacy"
      ],
      "metadata": {
        "id": "b8nNDGQMfX2S"
      }
    },
    {
      "cell_type": "code",
      "execution_count": null,
      "metadata": {
        "id": "Wbenkp2MgsV_",
        "colab": {
          "base_uri": "https://localhost:8080/"
        },
        "outputId": "51dae16d-0551-4d4c-d70c-a43c5e1f88d0"
      },
      "outputs": [
        {
          "output_type": "execute_result",
          "data": {
            "text/plain": [
              "tuple"
            ]
          },
          "metadata": {},
          "execution_count": 7
        }
      ],
      "source": [
        "tupl=(\"apple\",\"mango\",\"cherry\")\n",
        "type(tupl)"
      ]
    },
    {
      "cell_type": "code",
      "source": [
        "# how to access the elements in tuple\n",
        "tupl[1]\n"
      ],
      "metadata": {
        "colab": {
          "base_uri": "https://localhost:8080/",
          "height": 35
        },
        "id": "SbVpLfJwhMjR",
        "outputId": "b76edfbb-ebd4-4d95-a5ba-f6ee75835c03"
      },
      "execution_count": null,
      "outputs": [
        {
          "output_type": "execute_result",
          "data": {
            "text/plain": [
              "'mango'"
            ],
            "application/vnd.google.colaboratory.intrinsic+json": {
              "type": "string"
            }
          },
          "metadata": {},
          "execution_count": 8
        }
      ]
    },
    {
      "cell_type": "code",
      "source": [
        "tupl[-1] # tuple support negative indexing as well"
      ],
      "metadata": {
        "colab": {
          "base_uri": "https://localhost:8080/",
          "height": 35
        },
        "id": "HykqzPhCha_0",
        "outputId": "25078813-0d85-4de9-edd2-496dbda3b0a8"
      },
      "execution_count": null,
      "outputs": [
        {
          "output_type": "execute_result",
          "data": {
            "text/plain": [
              "'cherry'"
            ],
            "application/vnd.google.colaboratory.intrinsic+json": {
              "type": "string"
            }
          },
          "metadata": {},
          "execution_count": 12
        }
      ]
    },
    {
      "cell_type": "code",
      "source": [
        "tupl[1:3]"
      ],
      "metadata": {
        "colab": {
          "base_uri": "https://localhost:8080/"
        },
        "id": "rxzuLwAlhu-N",
        "outputId": "9c510915-11ea-4138-97fb-e055d5cc6828"
      },
      "execution_count": null,
      "outputs": [
        {
          "output_type": "execute_result",
          "data": {
            "text/plain": [
              "('mango', 'cherry')"
            ]
          },
          "metadata": {},
          "execution_count": 10
        }
      ]
    },
    {
      "cell_type": "code",
      "source": [
        "tupl[0:3]"
      ],
      "metadata": {
        "colab": {
          "base_uri": "https://localhost:8080/"
        },
        "id": "E6AsKLNciEO9",
        "outputId": "b1a04f08-7928-4227-f290-2143f973c8fb"
      },
      "execution_count": null,
      "outputs": [
        {
          "output_type": "execute_result",
          "data": {
            "text/plain": [
              "('apple', 'mango', 'cherry')"
            ]
          },
          "metadata": {},
          "execution_count": 11
        }
      ]
    },
    {
      "cell_type": "code",
      "source": [
        "# tuple does not have any functions to do the CRUD operations\n"
      ],
      "metadata": {
        "id": "PhPv-ORpiX3x"
      },
      "execution_count": null,
      "outputs": []
    },
    {
      "cell_type": "code",
      "source": [
        "tupl"
      ],
      "metadata": {
        "colab": {
          "base_uri": "https://localhost:8080/"
        },
        "id": "io34IMD1ikAT",
        "outputId": "f4f8d18b-303b-47e3-bd27-91fb4aa9677e"
      },
      "execution_count": null,
      "outputs": [
        {
          "output_type": "execute_result",
          "data": {
            "text/plain": [
              "('apple', 'mango', 'cherry')"
            ]
          },
          "metadata": {},
          "execution_count": 13
        }
      ]
    },
    {
      "cell_type": "code",
      "source": [
        "#if we want to change the values of mangoes in the tuple we need to change the tuple into list\n",
        "type(tupl)\n"
      ],
      "metadata": {
        "colab": {
          "base_uri": "https://localhost:8080/"
        },
        "id": "r8cpFr9JilUS",
        "outputId": "c11ab546-dbc5-4f6b-a61e-5d9b07af7571"
      },
      "execution_count": null,
      "outputs": [
        {
          "output_type": "execute_result",
          "data": {
            "text/plain": [
              "tuple"
            ]
          },
          "metadata": {},
          "execution_count": 14
        }
      ]
    },
    {
      "cell_type": "code",
      "source": [
        "lis=list(tupl)"
      ],
      "metadata": {
        "id": "N-xFKicGjD4T"
      },
      "execution_count": null,
      "outputs": []
    },
    {
      "cell_type": "code",
      "source": [
        "lis"
      ],
      "metadata": {
        "colab": {
          "base_uri": "https://localhost:8080/"
        },
        "id": "pl78A1lVjIPB",
        "outputId": "42adca36-34f1-4adb-9bc6-f2c18a4bfcf4"
      },
      "execution_count": null,
      "outputs": [
        {
          "output_type": "execute_result",
          "data": {
            "text/plain": [
              "['apple', 'mango', 'cherry']"
            ]
          },
          "metadata": {},
          "execution_count": 17
        }
      ]
    },
    {
      "cell_type": "code",
      "source": [
        "lis[1]=\"banana\""
      ],
      "metadata": {
        "id": "dNOLFq5ajJaa"
      },
      "execution_count": null,
      "outputs": []
    },
    {
      "cell_type": "code",
      "source": [
        "lis"
      ],
      "metadata": {
        "colab": {
          "base_uri": "https://localhost:8080/"
        },
        "id": "QQvgyMyDjVcb",
        "outputId": "27fd3dc9-f83c-4d04-ea31-863eee8de9be"
      },
      "execution_count": null,
      "outputs": [
        {
          "output_type": "execute_result",
          "data": {
            "text/plain": [
              "['apple', 'banana', 'cherry']"
            ]
          },
          "metadata": {},
          "execution_count": 19
        }
      ]
    },
    {
      "cell_type": "code",
      "source": [
        "tupl=tuple(lis)"
      ],
      "metadata": {
        "id": "UDO4dQ2UjWUa"
      },
      "execution_count": null,
      "outputs": []
    },
    {
      "cell_type": "code",
      "source": [
        "tupl"
      ],
      "metadata": {
        "colab": {
          "base_uri": "https://localhost:8080/"
        },
        "id": "WtMBYPumjhXJ",
        "outputId": "2dd7c567-483c-478f-bb26-897ba70ebdd6"
      },
      "execution_count": null,
      "outputs": [
        {
          "output_type": "execute_result",
          "data": {
            "text/plain": [
              "('apple', 'banana', 'cherry')"
            ]
          },
          "metadata": {},
          "execution_count": 21
        }
      ]
    },
    {
      "cell_type": "markdown",
      "source": [
        "tuple->list-> perform operations -> tuple"
      ],
      "metadata": {
        "id": "Ni-7GZHhj3Yy"
      }
    },
    {
      "cell_type": "code",
      "source": [
        "# adding tuple into a tuple\n",
        "tuples=(\"pear\",)\n",
        "type(tuples)\n"
      ],
      "metadata": {
        "colab": {
          "base_uri": "https://localhost:8080/"
        },
        "id": "_y9LA1W9jiaS",
        "outputId": "0196a2e1-afcf-4526-ad2d-8e2f3bb76391"
      },
      "execution_count": null,
      "outputs": [
        {
          "output_type": "execute_result",
          "data": {
            "text/plain": [
              "tuple"
            ]
          },
          "metadata": {},
          "execution_count": 25
        }
      ]
    },
    {
      "cell_type": "code",
      "source": [
        "tupl=tupl+tuples\n"
      ],
      "metadata": {
        "id": "qQ7XYR9al9Ee"
      },
      "execution_count": null,
      "outputs": []
    },
    {
      "cell_type": "code",
      "source": [
        "tupl"
      ],
      "metadata": {
        "colab": {
          "base_uri": "https://localhost:8080/"
        },
        "id": "HvoqAVq7mL2a",
        "outputId": "bf7e4e6e-7581-47bc-cce7-2fec6b0e97ad"
      },
      "execution_count": null,
      "outputs": [
        {
          "output_type": "execute_result",
          "data": {
            "text/plain": [
              "('apple', 'banana', 'cherry', 'pear')"
            ]
          },
          "metadata": {},
          "execution_count": 27
        }
      ]
    },
    {
      "cell_type": "code",
      "source": [
        "#we can also do tupl==tuples for adding a tuple into a tuple"
      ],
      "metadata": {
        "id": "sFkEGIXkmM1t"
      },
      "execution_count": null,
      "outputs": []
    },
    {
      "cell_type": "code",
      "source": [
        "#some tuple methods\n",
        "tu=(3,4,5,2,3,6,2,54,8,3,5,7,4,76,8,4,7,4,3,64,0)\n",
        "tu.count(4)"
      ],
      "metadata": {
        "colab": {
          "base_uri": "https://localhost:8080/"
        },
        "id": "7B0alYTfmYB6",
        "outputId": "57070887-80e2-49e6-81c0-99b59be58514"
      },
      "execution_count": null,
      "outputs": [
        {
          "output_type": "execute_result",
          "data": {
            "text/plain": [
              "4"
            ]
          },
          "metadata": {},
          "execution_count": 32
        }
      ]
    },
    {
      "cell_type": "code",
      "source": [
        "#to find the index of a certain value in tuple\n",
        "tu.index(0)"
      ],
      "metadata": {
        "colab": {
          "base_uri": "https://localhost:8080/"
        },
        "id": "DhkmBm1DncDQ",
        "outputId": "6d029690-ed1f-4829-edb7-063479fd7641"
      },
      "execution_count": null,
      "outputs": [
        {
          "output_type": "execute_result",
          "data": {
            "text/plain": [
              "20"
            ]
          },
          "metadata": {},
          "execution_count": 33
        }
      ]
    },
    {
      "cell_type": "code",
      "source": [
        "#if there are duplicate elements in the tuple and we ask for the index of that \n",
        "#element it gives the index of the first occurence of the tuple\n",
        "tu.index(2)"
      ],
      "metadata": {
        "colab": {
          "base_uri": "https://localhost:8080/"
        },
        "id": "xGHFdnG6oOHL",
        "outputId": "9fb014dd-a9f1-4019-da68-2698ff9c4f05"
      },
      "execution_count": null,
      "outputs": [
        {
          "output_type": "execute_result",
          "data": {
            "text/plain": [
              "3"
            ]
          },
          "metadata": {},
          "execution_count": 35
        }
      ]
    },
    {
      "cell_type": "markdown",
      "source": [
        "# Dictionary\n",
        "1. python data structure\n",
        "2. it is enclosed in {}\n",
        "3. it follows key-value pair standard system\n",
        "4. mutable\n",
        "5. hetrogenous\n",
        "6. unordered\n",
        "7. **it cannot/does not allow duplicates**\n",
        "\n"
      ],
      "metadata": {
        "id": "XE_oNuvtoxCv"
      }
    },
    {
      "cell_type": "code",
      "source": [
        "#di={key:value} is the syntax for dictionary"
      ],
      "metadata": {
        "id": "doWgeq2xoSnc"
      },
      "execution_count": null,
      "outputs": []
    },
    {
      "cell_type": "code",
      "source": [
        "di={\"table\":\"a wodden plank or a sheet\"}\n",
        "di\n"
      ],
      "metadata": {
        "colab": {
          "base_uri": "https://localhost:8080/"
        },
        "id": "I3vQJJAJqheP",
        "outputId": "4ddd21c0-9a9b-4e9a-e70a-165595b61d26"
      },
      "execution_count": null,
      "outputs": [
        {
          "output_type": "execute_result",
          "data": {
            "text/plain": [
              "{'table': 'a wodden plank or a sheet'}"
            ]
          },
          "metadata": {},
          "execution_count": 40
        }
      ]
    },
    {
      "cell_type": "code",
      "source": [
        "type(di)"
      ],
      "metadata": {
        "colab": {
          "base_uri": "https://localhost:8080/"
        },
        "id": "X-wilVWeq7ga",
        "outputId": "b2cf3a5e-d9b7-459c-ebf0-cb47f829570b"
      },
      "execution_count": null,
      "outputs": [
        {
          "output_type": "execute_result",
          "data": {
            "text/plain": [
              "dict"
            ]
          },
          "metadata": {},
          "execution_count": 37
        }
      ]
    },
    {
      "cell_type": "code",
      "source": [
        "di={\"table\":\"a wodden plank or a sheet\",\"table\":\"it is a toy\"}\n",
        "di\n",
        "#it displays the second pair as python is a interpreted language and the second\n",
        "# pair is  will be the latest"
      ],
      "metadata": {
        "colab": {
          "base_uri": "https://localhost:8080/"
        },
        "id": "cRicxuMyq86N",
        "outputId": "59873920-66f1-407c-fcc3-7f5209e2e685"
      },
      "execution_count": null,
      "outputs": [
        {
          "output_type": "execute_result",
          "data": {
            "text/plain": [
              "{'table': 'it is a toy'}"
            ]
          },
          "metadata": {},
          "execution_count": 42
        }
      ]
    },
    {
      "cell_type": "code",
      "source": [
        "dicto={\"book\":\"knowledge\",\"laptop\":\"electronics\",\"pen\":\"an instrument\"}\n",
        "dicto"
      ],
      "metadata": {
        "id": "OMn3ozzVrk_7",
        "colab": {
          "base_uri": "https://localhost:8080/"
        },
        "outputId": "682acf91-7663-4c7b-b53b-cb297dd43581"
      },
      "execution_count": null,
      "outputs": [
        {
          "output_type": "execute_result",
          "data": {
            "text/plain": [
              "{'book': 'knowledge', 'laptop': 'electronics', 'pen': 'an instrument'}"
            ]
          },
          "metadata": {},
          "execution_count": 44
        }
      ]
    },
    {
      "cell_type": "code",
      "source": [
        "#let do the CRUD OPERATIONS\n",
        "# as we know how to create and read a dictionary , let us do the update operations"
      ],
      "metadata": {
        "id": "b8NS6JgjtH4x"
      },
      "execution_count": null,
      "outputs": []
    },
    {
      "cell_type": "code",
      "source": [
        "dicto[\"book\"] # first way of accesing(by list)"
      ],
      "metadata": {
        "colab": {
          "base_uri": "https://localhost:8080/",
          "height": 35
        },
        "id": "oTxUbPQXtO_E",
        "outputId": "2901eeba-b21a-4e06-c1b3-e4758748545c"
      },
      "execution_count": null,
      "outputs": [
        {
          "output_type": "execute_result",
          "data": {
            "text/plain": [
              "'knowledge'"
            ],
            "application/vnd.google.colaboratory.intrinsic+json": {
              "type": "string"
            }
          },
          "metadata": {},
          "execution_count": 47
        }
      ]
    },
    {
      "cell_type": "code",
      "source": [
        "dicto.get(\"book\") # second way of accessing (by dict)"
      ],
      "metadata": {
        "colab": {
          "base_uri": "https://localhost:8080/",
          "height": 35
        },
        "id": "en9PLFHxuDvG",
        "outputId": "dc796f24-0e1b-4868-ae38-98d5f3f2e50c"
      },
      "execution_count": null,
      "outputs": [
        {
          "output_type": "execute_result",
          "data": {
            "text/plain": [
              "'knowledge'"
            ],
            "application/vnd.google.colaboratory.intrinsic+json": {
              "type": "string"
            }
          },
          "metadata": {},
          "execution_count": 48
        }
      ]
    },
    {
      "cell_type": "code",
      "source": [
        "dicto[\"book\"]=\"hello world\" # we are changing the value using list concept"
      ],
      "metadata": {
        "id": "BVZ7pqGGvZub"
      },
      "execution_count": null,
      "outputs": []
    },
    {
      "cell_type": "code",
      "source": [
        "dicto[\"book\"]"
      ],
      "metadata": {
        "colab": {
          "base_uri": "https://localhost:8080/",
          "height": 35
        },
        "id": "2mFiNtsSwUW1",
        "outputId": "f26d923f-3de4-40d3-8fc4-85aa14ec8893"
      },
      "execution_count": null,
      "outputs": [
        {
          "output_type": "execute_result",
          "data": {
            "text/plain": [
              "'hello world'"
            ],
            "application/vnd.google.colaboratory.intrinsic+json": {
              "type": "string"
            }
          },
          "metadata": {},
          "execution_count": 50
        }
      ]
    },
    {
      "cell_type": "code",
      "source": [
        "dicto"
      ],
      "metadata": {
        "colab": {
          "base_uri": "https://localhost:8080/"
        },
        "id": "D4aMX3dZwW-c",
        "outputId": "9a8c85c4-3473-4928-8a8b-3e244b56e4d6"
      },
      "execution_count": null,
      "outputs": [
        {
          "output_type": "execute_result",
          "data": {
            "text/plain": [
              "{'book': 'hello world', 'laptop': 'electronics', 'pen': 'an instrument'}"
            ]
          },
          "metadata": {},
          "execution_count": 51
        }
      ]
    },
    {
      "cell_type": "code",
      "source": [
        "#update()\n",
        "dicto.update({\"laptop\":\"a small pc\"})"
      ],
      "metadata": {
        "id": "Lu_ttEJewZLS"
      },
      "execution_count": null,
      "outputs": []
    },
    {
      "cell_type": "code",
      "source": [
        "dicto"
      ],
      "metadata": {
        "colab": {
          "base_uri": "https://localhost:8080/"
        },
        "id": "kZ6FV7A_yG6S",
        "outputId": "066e78af-c4fe-41e0-e1b8-f69eb6847973"
      },
      "execution_count": null,
      "outputs": [
        {
          "output_type": "execute_result",
          "data": {
            "text/plain": [
              "{'book': 'hello world', 'laptop': 'a small pc', 'pen': 'an instrument'}"
            ]
          },
          "metadata": {},
          "execution_count": 54
        }
      ]
    },
    {
      "cell_type": "code",
      "source": [
        "# how to remove a dict\n",
        "dicto"
      ],
      "metadata": {
        "colab": {
          "base_uri": "https://localhost:8080/"
        },
        "id": "L4W3gdUmySKg",
        "outputId": "e785f6bf-d902-49eb-a7ba-89248e1f1b14"
      },
      "execution_count": null,
      "outputs": [
        {
          "output_type": "execute_result",
          "data": {
            "text/plain": [
              "{'book': 'hello world', 'laptop': 'a small pc', 'pen': 'an instrument'}"
            ]
          },
          "metadata": {},
          "execution_count": 55
        }
      ]
    },
    {
      "cell_type": "code",
      "source": [
        "dicto.pop(\"book\")"
      ],
      "metadata": {
        "colab": {
          "base_uri": "https://localhost:8080/",
          "height": 35
        },
        "id": "QmCD14otzA2r",
        "outputId": "ab70a434-1c0f-4f74-8c8c-4ba162000673"
      },
      "execution_count": null,
      "outputs": [
        {
          "output_type": "execute_result",
          "data": {
            "text/plain": [
              "'hello world'"
            ],
            "application/vnd.google.colaboratory.intrinsic+json": {
              "type": "string"
            }
          },
          "metadata": {},
          "execution_count": 58
        }
      ]
    },
    {
      "cell_type": "code",
      "source": [
        "dicto"
      ],
      "metadata": {
        "colab": {
          "base_uri": "https://localhost:8080/"
        },
        "id": "f8DPqUIP0iHd",
        "outputId": "d158b8db-dcfd-4d0a-9bc7-410bdb0ac9fa"
      },
      "execution_count": null,
      "outputs": [
        {
          "output_type": "execute_result",
          "data": {
            "text/plain": [
              "{'laptop': 'a small pc', 'pen': 'an instrument'}"
            ]
          },
          "metadata": {},
          "execution_count": 59
        }
      ]
    },
    {
      "cell_type": "code",
      "source": [],
      "metadata": {
        "id": "rVDFcCiH1eMh"
      },
      "execution_count": null,
      "outputs": []
    }
  ]
}