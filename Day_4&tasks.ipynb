{
  "nbformat": 4,
  "nbformat_minor": 0,
  "metadata": {
    "colab": {
      "provenance": [],
      "authorship_tag": "ABX9TyOzsviH8P6QUCprciV+ls4V",
      "include_colab_link": true
    },
    "kernelspec": {
      "name": "python3",
      "display_name": "Python 3"
    },
    "language_info": {
      "name": "python"
    }
  },
  "cells": [
    {
      "cell_type": "markdown",
      "metadata": {
        "id": "view-in-github",
        "colab_type": "text"
      },
      "source": [
        "<a href=\"https://colab.research.google.com/github/vivekkaladasi/DataScience/blob/main/Day_4%26tasks.ipynb\" target=\"_parent\"><img src=\"https://colab.research.google.com/assets/colab-badge.svg\" alt=\"Open In Colab\"/></a>"
      ]
    },
    {
      "cell_type": "code",
      "execution_count": null,
      "metadata": {
        "id": "BhmBOQxozI2s"
      },
      "outputs": [],
      "source": [
        "elec=[\"laptop\",\"speaker\",\"microphone\"]\n",
        "games=[\"cod\",\"pubg\",\"rdr\",\"run\",\"coc\"]\n",
        "elec.extend(games)\n"
      ]
    },
    {
      "cell_type": "code",
      "source": [
        "\n",
        "games"
      ],
      "metadata": {
        "colab": {
          "base_uri": "https://localhost:8080/"
        },
        "id": "cryJxRZjzsNb",
        "outputId": "dd8860c7-78b2-4870-ed7a-ea865a1d18ab"
      },
      "execution_count": null,
      "outputs": [
        {
          "output_type": "execute_result",
          "data": {
            "text/plain": [
              "['cod', 'pubg', 'rdr', 'run', 'coc']"
            ]
          },
          "metadata": {},
          "execution_count": 26
        }
      ]
    },
    {
      "cell_type": "code",
      "source": [
        "elec"
      ],
      "metadata": {
        "colab": {
          "base_uri": "https://localhost:8080/"
        },
        "id": "mLVNyHiKztMC",
        "outputId": "bc470fe4-2cce-4443-8ee5-e1a330401464"
      },
      "execution_count": null,
      "outputs": [
        {
          "output_type": "execute_result",
          "data": {
            "text/plain": [
              "['laptop', 'speaker', 'microphone', 'cod', 'pubg', 'rdr', 'run', 'coc']"
            ]
          },
          "metadata": {},
          "execution_count": 27
        }
      ]
    },
    {
      "cell_type": "code",
      "source": [
        "elec.remove(\"rdr\")"
      ],
      "metadata": {
        "id": "b_M654I4zu0b"
      },
      "execution_count": null,
      "outputs": []
    },
    {
      "cell_type": "code",
      "source": [
        "elec"
      ],
      "metadata": {
        "colab": {
          "base_uri": "https://localhost:8080/"
        },
        "id": "P8BCQqZfzwwK",
        "outputId": "67ef1af4-d411-422e-e858-853afec68360"
      },
      "execution_count": null,
      "outputs": [
        {
          "output_type": "execute_result",
          "data": {
            "text/plain": [
              "['laptop', 'speaker', 'microphone', 'cod', 'pubg', 'run', 'coc']"
            ]
          },
          "metadata": {},
          "execution_count": 29
        }
      ]
    },
    {
      "cell_type": "code",
      "source": [
        "elec.pop(-1)"
      ],
      "metadata": {
        "colab": {
          "base_uri": "https://localhost:8080/",
          "height": 35
        },
        "id": "2RDkZAvUzyTV",
        "outputId": "aee4c14a-71d9-4755-f60f-42b1e3216c61"
      },
      "execution_count": null,
      "outputs": [
        {
          "output_type": "execute_result",
          "data": {
            "text/plain": [
              "'coc'"
            ],
            "application/vnd.google.colaboratory.intrinsic+json": {
              "type": "string"
            }
          },
          "metadata": {},
          "execution_count": 30
        }
      ]
    },
    {
      "cell_type": "code",
      "source": [
        "elec"
      ],
      "metadata": {
        "colab": {
          "base_uri": "https://localhost:8080/"
        },
        "id": "jOHFzJOKzz5e",
        "outputId": "3a92ab54-f153-48a2-ba75-926666d6fe41"
      },
      "execution_count": null,
      "outputs": [
        {
          "output_type": "execute_result",
          "data": {
            "text/plain": [
              "['laptop', 'speaker', 'microphone', 'cod', 'pubg', 'run']"
            ]
          },
          "metadata": {},
          "execution_count": 31
        }
      ]
    },
    {
      "cell_type": "code",
      "source": [
        "elec.pop()"
      ],
      "metadata": {
        "colab": {
          "base_uri": "https://localhost:8080/",
          "height": 35
        },
        "id": "Zl1XuWkez2IA",
        "outputId": "67aca1ca-817a-4a65-890d-4a6cefdce03a"
      },
      "execution_count": null,
      "outputs": [
        {
          "output_type": "execute_result",
          "data": {
            "text/plain": [
              "'run'"
            ],
            "application/vnd.google.colaboratory.intrinsic+json": {
              "type": "string"
            }
          },
          "metadata": {},
          "execution_count": 32
        }
      ]
    },
    {
      "cell_type": "code",
      "source": [
        "elec\n"
      ],
      "metadata": {
        "colab": {
          "base_uri": "https://localhost:8080/"
        },
        "id": "IiIj-opaz3pX",
        "outputId": "e9f19298-d5a9-408a-ad7a-db79f8dbbad4"
      },
      "execution_count": null,
      "outputs": [
        {
          "output_type": "execute_result",
          "data": {
            "text/plain": [
              "['laptop', 'speaker', 'microphone', 'cod', 'pubg']"
            ]
          },
          "metadata": {},
          "execution_count": 33
        }
      ]
    },
    {
      "cell_type": "code",
      "source": [
        "#if we want to delete an element of a list which is a part of whole list\n",
        "listi=[[1,2,3],[4,5,6]]\n",
        "listi[0]"
      ],
      "metadata": {
        "colab": {
          "base_uri": "https://localhost:8080/"
        },
        "id": "6DeQc3FAz5TW",
        "outputId": "1ce1f506-114e-44c1-8c1e-8afbc9814be0"
      },
      "execution_count": null,
      "outputs": [
        {
          "output_type": "execute_result",
          "data": {
            "text/plain": [
              "[1, 2, 3]"
            ]
          },
          "metadata": {},
          "execution_count": 22
        }
      ]
    },
    {
      "cell_type": "code",
      "source": [
        "listi[1].remove(5)"
      ],
      "metadata": {
        "id": "oM-YGtwA5NPi"
      },
      "execution_count": null,
      "outputs": []
    },
    {
      "cell_type": "code",
      "source": [
        "listi"
      ],
      "metadata": {
        "colab": {
          "base_uri": "https://localhost:8080/"
        },
        "id": "p3BRRl965VpE",
        "outputId": "c6e4d43a-8684-4ae6-fa8a-85e9442eaabc"
      },
      "execution_count": null,
      "outputs": [
        {
          "output_type": "execute_result",
          "data": {
            "text/plain": [
              "[[1, 2, 3], [4, 6]]"
            ]
          },
          "metadata": {},
          "execution_count": 16
        }
      ]
    },
    {
      "cell_type": "code",
      "source": [
        "elec"
      ],
      "metadata": {
        "colab": {
          "base_uri": "https://localhost:8080/"
        },
        "id": "2QZF1JYj5_ps",
        "outputId": "a4afec44-5396-40e6-97b1-2227491c2d91"
      },
      "execution_count": null,
      "outputs": [
        {
          "output_type": "execute_result",
          "data": {
            "text/plain": [
              "['laptop', 'speaker', 'microphone', 'cod', 'pubg']"
            ]
          },
          "metadata": {},
          "execution_count": 34
        }
      ]
    },
    {
      "cell_type": "code",
      "source": [
        "del elec[2]"
      ],
      "metadata": {
        "id": "fLKS1-6R5nOI"
      },
      "execution_count": null,
      "outputs": []
    },
    {
      "cell_type": "code",
      "source": [
        "elec"
      ],
      "metadata": {
        "colab": {
          "base_uri": "https://localhost:8080/"
        },
        "id": "nKFFQ-tI6RNb",
        "outputId": "5c5be370-1654-488f-9eaa-5b6dacbaaa7e"
      },
      "execution_count": null,
      "outputs": [
        {
          "output_type": "execute_result",
          "data": {
            "text/plain": [
              "['laptop', 'speaker', 'cod', 'pubg']"
            ]
          },
          "metadata": {},
          "execution_count": 36
        }
      ]
    },
    {
      "cell_type": "code",
      "source": [
        "grades=[99,94,91,90,92,98,93,95,97,96]\n"
      ],
      "metadata": {
        "id": "PVEt2QK76i34"
      },
      "execution_count": null,
      "outputs": []
    },
    {
      "cell_type": "code",
      "source": [
        "len(grades)"
      ],
      "metadata": {
        "colab": {
          "base_uri": "https://localhost:8080/"
        },
        "id": "zExfWr1P8QTB",
        "outputId": "c01d8486-d0a8-43cf-897f-ac547f5326c7"
      },
      "execution_count": null,
      "outputs": [
        {
          "output_type": "execute_result",
          "data": {
            "text/plain": [
              "10"
            ]
          },
          "metadata": {},
          "execution_count": 52
        }
      ]
    },
    {
      "cell_type": "code",
      "source": [
        "#to find the maximum element in a list, use the function max\n",
        "max(grades)"
      ],
      "metadata": {
        "colab": {
          "base_uri": "https://localhost:8080/"
        },
        "id": "zEdbvrZu8eUq",
        "outputId": "056fb1a1-9e63-452b-bcc4-0a3307bd7059"
      },
      "execution_count": null,
      "outputs": [
        {
          "output_type": "execute_result",
          "data": {
            "text/plain": [
              "99"
            ]
          },
          "metadata": {},
          "execution_count": 53
        }
      ]
    },
    {
      "cell_type": "code",
      "source": [
        "#to find the minimum element in a list, use the function min\n",
        "min(grades)"
      ],
      "metadata": {
        "colab": {
          "base_uri": "https://localhost:8080/"
        },
        "id": "1D0uRjiZ80Hq",
        "outputId": "1a3a0656-1d90-4389-9565-1c8875df584c"
      },
      "execution_count": null,
      "outputs": [
        {
          "output_type": "execute_result",
          "data": {
            "text/plain": [
              "90"
            ]
          },
          "metadata": {},
          "execution_count": 54
        }
      ]
    },
    {
      "cell_type": "code",
      "source": [
        "#lets see how max works if there is a list containing list\n",
        "#(it caluclates the ascii values)\n",
        "alph=[\"hi\",\"cat\",\"bear\",\"plant\"]\n",
        "max(alph)"
      ],
      "metadata": {
        "colab": {
          "base_uri": "https://localhost:8080/",
          "height": 35
        },
        "id": "J8ioG4sC9DVb",
        "outputId": "5d037558-87ef-4333-edc5-fe131f03f0c7"
      },
      "execution_count": null,
      "outputs": [
        {
          "output_type": "execute_result",
          "data": {
            "text/plain": [
              "'plant'"
            ],
            "application/vnd.google.colaboratory.intrinsic+json": {
              "type": "string"
            }
          },
          "metadata": {},
          "execution_count": 55
        }
      ]
    },
    {
      "cell_type": "code",
      "source": [
        "#sort function is used to sort the elements (by default) in ascending order\n",
        "grades.sort()\n"
      ],
      "metadata": {
        "id": "GyW6PHi29Y5L"
      },
      "execution_count": null,
      "outputs": []
    },
    {
      "cell_type": "code",
      "source": [
        "grades"
      ],
      "metadata": {
        "colab": {
          "base_uri": "https://localhost:8080/"
        },
        "id": "hMdDKd3ZByHO",
        "outputId": "e1dc312b-97f3-42bc-94d0-3a2676771d76"
      },
      "execution_count": null,
      "outputs": [
        {
          "output_type": "execute_result",
          "data": {
            "text/plain": [
              "[90, 91, 92, 93, 94, 95, 96, 97, 98, 99]"
            ]
          },
          "metadata": {},
          "execution_count": 57
        }
      ]
    },
    {
      "cell_type": "code",
      "source": [
        "grades.sort(reverse=True)"
      ],
      "metadata": {
        "id": "mnCwerX3CI7n"
      },
      "execution_count": null,
      "outputs": []
    },
    {
      "cell_type": "code",
      "source": [
        "grades\n"
      ],
      "metadata": {
        "colab": {
          "base_uri": "https://localhost:8080/"
        },
        "id": "bneZxJj-Cb8B",
        "outputId": "dfcbca67-77c2-4bad-86c8-7a1cd21bf997"
      },
      "execution_count": null,
      "outputs": [
        {
          "output_type": "execute_result",
          "data": {
            "text/plain": [
              "[99, 98, 97, 96, 95, 94, 93, 92, 91, 90]"
            ]
          },
          "metadata": {},
          "execution_count": 60
        }
      ]
    },
    {
      "cell_type": "code",
      "source": [
        "alp=[\"w\",\"g\",\"j\",\"d\",\"a\"]\n",
        "alp.sort()"
      ],
      "metadata": {
        "id": "CN6k5l4qCh27"
      },
      "execution_count": null,
      "outputs": []
    },
    {
      "cell_type": "code",
      "source": [
        "alp"
      ],
      "metadata": {
        "colab": {
          "base_uri": "https://localhost:8080/"
        },
        "id": "IgyTz7weCuSF",
        "outputId": "016a5280-4ca4-4903-caa2-a0aa310bbd9d"
      },
      "execution_count": null,
      "outputs": [
        {
          "output_type": "execute_result",
          "data": {
            "text/plain": [
              "['a', 'd', 'g', 'j', 'w']"
            ]
          },
          "metadata": {},
          "execution_count": 63
        }
      ]
    },
    {
      "cell_type": "code",
      "source": [
        "grades.reverse()"
      ],
      "metadata": {
        "id": "4tWyWqHBCvTm"
      },
      "execution_count": null,
      "outputs": []
    },
    {
      "cell_type": "code",
      "source": [
        "grades"
      ],
      "metadata": {
        "colab": {
          "base_uri": "https://localhost:8080/"
        },
        "id": "3SB3ftBbC9TF",
        "outputId": "abad795b-8ac3-4ce3-cc0a-bb92eb69c486"
      },
      "execution_count": null,
      "outputs": [
        {
          "output_type": "execute_result",
          "data": {
            "text/plain": [
              "[90, 91, 92, 93, 94, 95, 96, 97, 98, 99]"
            ]
          },
          "metadata": {},
          "execution_count": 65
        }
      ]
    },
    {
      "cell_type": "code",
      "source": [
        "alp.reverse()"
      ],
      "metadata": {
        "id": "19NN2k7PC-PD"
      },
      "execution_count": null,
      "outputs": []
    },
    {
      "cell_type": "code",
      "source": [
        "alp"
      ],
      "metadata": {
        "colab": {
          "base_uri": "https://localhost:8080/"
        },
        "id": "9X5ti7QvDCAP",
        "outputId": "9d174b56-74bf-4641-82b1-ee1861f9fcc5"
      },
      "execution_count": null,
      "outputs": [
        {
          "output_type": "execute_result",
          "data": {
            "text/plain": [
              "['w', 'j', 'g', 'd', 'a']"
            ]
          },
          "metadata": {},
          "execution_count": 67
        }
      ]
    },
    {
      "cell_type": "markdown",
      "source": [],
      "metadata": {
        "id": "uLiLag2WO-aZ"
      }
    },
    {
      "cell_type": "code",
      "source": [
        "from IPython.core.magics.basic import indent\n",
        "# summaru\n",
        "1. CRUD operations\n",
        "2. append, list methods, extends,insert,remove,pop\n",
        "3.max , min indent\n",
        "4.slicing"
      ],
      "metadata": {
        "id": "qKl6wLr6DC_q"
      },
      "execution_count": null,
      "outputs": []
    },
    {
      "cell_type": "markdown",
      "source": [
        "# Tasks of day-3"
      ],
      "metadata": {
        "id": "w7e5EKAZOBzU"
      }
    },
    {
      "cell_type": "code",
      "source": [
        "# take the input from user and add the value into an empty list using the methods\n",
        "#eppend(), extend(), insert()"
      ],
      "metadata": {
        "id": "-uOR2011N6Ak"
      },
      "execution_count": null,
      "outputs": []
    },
    {
      "cell_type": "code",
      "source": [
        "a=int(input())\n",
        "b=int(input())\n",
        "list1=[]\n",
        "list2=[]\n",
        "list1.append(a)\n",
        "print(list1)\n",
        "list2.append(b)\n",
        "print(list2)\n",
        "list1.extend(list2)\n",
        "print(list1)\n",
        "list1.insert(2,3)\n",
        "print(list1)"
      ],
      "metadata": {
        "colab": {
          "base_uri": "https://localhost:8080/"
        },
        "id": "RkV08JtkN54E",
        "outputId": "b1095ee5-af91-4785-906d-6e5a689e6af3"
      },
      "execution_count": 7,
      "outputs": [
        {
          "output_type": "stream",
          "name": "stdout",
          "text": [
            "7\n",
            "4\n",
            "[7]\n",
            "[4]\n",
            "[7, 4]\n",
            "[7, 4, 3]\n"
          ]
        }
      ]
    },
    {
      "cell_type": "code",
      "source": [
        "name=\"monty python\"\n",
        "name[::-2]\n"
      ],
      "metadata": {
        "colab": {
          "base_uri": "https://localhost:8080/",
          "height": 35
        },
        "id": "LIUNCDMGRQit",
        "outputId": "61fed55a-45eb-428f-fafa-dcdc0fe9d0b7"
      },
      "execution_count": 16,
      "outputs": [
        {
          "output_type": "execute_result",
          "data": {
            "text/plain": [
              "'nhy to'"
            ],
            "application/vnd.google.colaboratory.intrinsic+json": {
              "type": "string"
            }
          },
          "metadata": {},
          "execution_count": 16
        }
      ]
    },
    {
      "cell_type": "code",
      "source": [
        "name[::2]"
      ],
      "metadata": {
        "colab": {
          "base_uri": "https://localhost:8080/",
          "height": 35
        },
        "id": "Pe240TAuQFhq",
        "outputId": "15d5411c-f6f4-49d7-e435-fbad1c965d96"
      },
      "execution_count": 18,
      "outputs": [
        {
          "output_type": "execute_result",
          "data": {
            "text/plain": [
              "'mnypto'"
            ],
            "application/vnd.google.colaboratory.intrinsic+json": {
              "type": "string"
            }
          },
          "metadata": {},
          "execution_count": 18
        }
      ]
    },
    {
      "cell_type": "code",
      "source": [
        "#made a shopping list containing mobile,game, lapop,earpods,charger,speaker\n",
        "#suddenly realised i have speaker at home so remove the speaker from the list\n",
        "listi=[\"mobile\",\"charger\",\"earpods\",\"speaker\",\"laptop\"]\n",
        "#method1\n",
        "listi.remove(\"speaker\")\n",
        "listi"
      ],
      "metadata": {
        "colab": {
          "base_uri": "https://localhost:8080/"
        },
        "id": "DyyOefQUaVso",
        "outputId": "57060cec-8243-45ba-b078-8097d87a9000"
      },
      "execution_count": 19,
      "outputs": [
        {
          "output_type": "execute_result",
          "data": {
            "text/plain": [
              "['mobile', 'charger', 'earpods', 'laptop']"
            ]
          },
          "metadata": {},
          "execution_count": 19
        }
      ]
    },
    {
      "cell_type": "code",
      "source": [
        "#method2\n",
        "listo=[\"mobile\",\"charger\",\"earpods\",\"speaker\",\"laptop\"]\n",
        "listo.pop(3)"
      ],
      "metadata": {
        "colab": {
          "base_uri": "https://localhost:8080/",
          "height": 35
        },
        "id": "9sa2eUYcbUVf",
        "outputId": "00f51cee-9f29-4cce-89f2-563fdf70249d"
      },
      "execution_count": 20,
      "outputs": [
        {
          "output_type": "execute_result",
          "data": {
            "text/plain": [
              "'speaker'"
            ],
            "application/vnd.google.colaboratory.intrinsic+json": {
              "type": "string"
            }
          },
          "metadata": {},
          "execution_count": 20
        }
      ]
    },
    {
      "cell_type": "code",
      "source": [
        "#method3\n",
        "liste=[\"mobile\",\"charger\",\"earpods\",\"speaker\",\"laptop\"]\n",
        "del liste[3]\n",
        "liste\n"
      ],
      "metadata": {
        "colab": {
          "base_uri": "https://localhost:8080/"
        },
        "id": "zSd6hvIWbkuU",
        "outputId": "edb5cc47-59a8-407b-ff2e-5cb65704c98f"
      },
      "execution_count": 26,
      "outputs": [
        {
          "output_type": "execute_result",
          "data": {
            "text/plain": [
              "['mobile', 'charger', 'earpods', 'laptop']"
            ]
          },
          "metadata": {},
          "execution_count": 26
        }
      ]
    },
    {
      "cell_type": "code",
      "source": [
        "#perform sort fuction\n",
        "nums=[25,87,45,9063,3457,354,63]\n",
        "nums.sort()"
      ],
      "metadata": {
        "id": "qa77zr2gb32X"
      },
      "execution_count": 27,
      "outputs": []
    },
    {
      "cell_type": "code",
      "source": [
        "nums"
      ],
      "metadata": {
        "colab": {
          "base_uri": "https://localhost:8080/"
        },
        "id": "o3qXB9KTcuN4",
        "outputId": "caf4b90c-01ea-44f7-a884-bcc1ca1c694d"
      },
      "execution_count": 28,
      "outputs": [
        {
          "output_type": "execute_result",
          "data": {
            "text/plain": [
              "[25, 45, 63, 87, 354, 3457, 9063]"
            ]
          },
          "metadata": {},
          "execution_count": 28
        }
      ]
    },
    {
      "cell_type": "code",
      "source": [
        "#find the smallest  number of list(nums)\n",
        "min(nums)"
      ],
      "metadata": {
        "colab": {
          "base_uri": "https://localhost:8080/"
        },
        "id": "5IccKeD-cvqq",
        "outputId": "6ea01384-b321-4662-9f62-40beea19d4a9"
      },
      "execution_count": 30,
      "outputs": [
        {
          "output_type": "execute_result",
          "data": {
            "text/plain": [
              "25"
            ]
          },
          "metadata": {},
          "execution_count": 30
        }
      ]
    },
    {
      "cell_type": "code",
      "source": [
        "#find the largest  number of list(nums)\n",
        "max(nums)"
      ],
      "metadata": {
        "colab": {
          "base_uri": "https://localhost:8080/"
        },
        "id": "aznEclMhdRWZ",
        "outputId": "492ba4e8-004e-4c34-be71-65fbac228a0e"
      },
      "execution_count": 31,
      "outputs": [
        {
          "output_type": "execute_result",
          "data": {
            "text/plain": [
              "9063"
            ]
          },
          "metadata": {},
          "execution_count": 31
        }
      ]
    },
    {
      "cell_type": "code",
      "source": [
        "#find the sum of the list(nums)\n",
        "sum(nums)"
      ],
      "metadata": {
        "colab": {
          "base_uri": "https://localhost:8080/"
        },
        "id": "ctAlB0AddYR5",
        "outputId": "806b57fb-f763-4991-f719-6cacdbf26ddf"
      },
      "execution_count": 32,
      "outputs": [
        {
          "output_type": "execute_result",
          "data": {
            "text/plain": [
              "13094"
            ]
          },
          "metadata": {},
          "execution_count": 32
        }
      ]
    },
    {
      "cell_type": "code",
      "source": [
        "#add two list[hello] [world]\n",
        "list1=[\"hello\"]\n",
        "list2=[\"world\"]\n",
        "list1.extend(list2)\n",
        "list1"
      ],
      "metadata": {
        "colab": {
          "base_uri": "https://localhost:8080/"
        },
        "id": "FDs1QuyEduIP",
        "outputId": "0b3f2171-9493-4011-f1ce-899c429fe516"
      },
      "execution_count": 36,
      "outputs": [
        {
          "output_type": "execute_result",
          "data": {
            "text/plain": [
              "['hello', 'world']"
            ]
          },
          "metadata": {},
          "execution_count": 36
        }
      ]
    },
    {
      "cell_type": "code",
      "source": [
        "a=\"hello hola hiyaa hi\"\n",
        "a[0:-1:2]"
      ],
      "metadata": {
        "colab": {
          "base_uri": "https://localhost:8080/",
          "height": 35
        },
        "id": "lzvOLlzMemQN",
        "outputId": "59f2df3e-2298-417f-8c24-8d0df6ef57ed"
      },
      "execution_count": 37,
      "outputs": [
        {
          "output_type": "execute_result",
          "data": {
            "text/plain": [
              "'hlohl ia '"
            ],
            "application/vnd.google.colaboratory.intrinsic+json": {
              "type": "string"
            }
          },
          "metadata": {},
          "execution_count": 37
        }
      ]
    }
  ]
}