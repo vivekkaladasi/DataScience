{
  "nbformat": 4,
  "nbformat_minor": 0,
  "metadata": {
    "colab": {
      "provenance": [],
      "authorship_tag": "ABX9TyO+V2mF8WqAreDfDal7tJdd",
      "include_colab_link": true
    },
    "kernelspec": {
      "name": "python3",
      "display_name": "Python 3"
    },
    "language_info": {
      "name": "python"
    }
  },
  "cells": [
    {
      "cell_type": "markdown",
      "metadata": {
        "id": "view-in-github",
        "colab_type": "text"
      },
      "source": [
        "<a href=\"https://colab.research.google.com/github/vivekkaladasi/DataScience/blob/main/Datascience.ipynb\" target=\"_parent\"><img src=\"https://colab.research.google.com/assets/colab-badge.svg\" alt=\"Open In Colab\"/></a>"
      ]
    },
    {
      "cell_type": "markdown",
      "source": [
        "# Day-1 ShapeAi"
      ],
      "metadata": {
        "id": "wpEIviYaIhZm"
      }
    },
    {
      "cell_type": "code",
      "source": [
        "print(\"hello world \")"
      ],
      "metadata": {
        "colab": {
          "base_uri": "https://localhost:8080/"
        },
        "id": "5G3f6GG3IgY5",
        "outputId": "605e8ba3-6b4e-4aef-8be7-a20cc1aff20f"
      },
      "execution_count": null,
      "outputs": [
        {
          "output_type": "stream",
          "name": "stdout",
          "text": [
            "hello world\n"
          ]
        }
      ]
    },
    {
      "cell_type": "code",
      "source": [
        "print(245)"
      ],
      "metadata": {
        "colab": {
          "base_uri": "https://localhost:8080/"
        },
        "id": "Bp12C0tbMCGm",
        "outputId": "8d1b016a-ba6d-47fd-c913-083003228c63"
      },
      "execution_count": null,
      "outputs": [
        {
          "output_type": "stream",
          "name": "stdout",
          "text": [
            "245\n"
          ]
        }
      ]
    },
    {
      "cell_type": "code",
      "source": [
        "print(\"hello\")"
      ],
      "metadata": {
        "colab": {
          "base_uri": "https://localhost:8080/"
        },
        "id": "hVUumRLBMbnM",
        "outputId": "4491d220-b490-471e-ac8a-1410d2d5e8e2"
      },
      "execution_count": null,
      "outputs": [
        {
          "output_type": "stream",
          "name": "stdout",
          "text": [
            "hello\n"
          ]
        }
      ]
    },
    {
      "cell_type": "markdown",
      "source": [
        "variable is a continer to hold any kind of data type"
      ],
      "metadata": {
        "id": "M76q-UD0Nt4H"
      }
    },
    {
      "cell_type": "code",
      "source": [
        "var=(\"today is sunday\")\n",
        "print(var)"
      ],
      "metadata": {
        "colab": {
          "base_uri": "https://localhost:8080/"
        },
        "id": "Ai4yqUIZN0ce",
        "outputId": "1acddbbc-3823-44ce-b29d-4a51fa3064db"
      },
      "execution_count": null,
      "outputs": [
        {
          "output_type": "stream",
          "name": "stdout",
          "text": [
            "today is sunday\n"
          ]
        }
      ]
    },
    {
      "cell_type": "markdown",
      "source": [
        "# arthematics and operators"
      ],
      "metadata": {
        "id": "pE-ijssXQiFd"
      }
    },
    {
      "cell_type": "code",
      "source": [],
      "metadata": {
        "id": "68ocqt-jsuZG"
      },
      "execution_count": null,
      "outputs": []
    },
    {
      "cell_type": "markdown",
      "source": [
        "operators we use in python\n",
        "+ Addition\n",
        "- subraction\n",
        "* multiplication\n",
        "/ division\n",
        "% modulus\n",
        "** raised to power (OR) ^\n"
      ],
      "metadata": {
        "id": "3bD2HFSuQ-_u"
      }
    },
    {
      "cell_type": "code",
      "source": [
        "\"hi\"\n",
        "\"hello\"\n",
        "\"hey\"\n",
        "#as interpreter goes line by line it prints the last line of the code"
      ],
      "metadata": {
        "colab": {
          "base_uri": "https://localhost:8080/",
          "height": 36
        },
        "id": "qKbrSG0fRmZ-",
        "outputId": "5bc98fed-ead0-461b-ef8d-6098daeee4f7"
      },
      "execution_count": null,
      "outputs": [
        {
          "output_type": "execute_result",
          "data": {
            "text/plain": [
              "'hey'"
            ],
            "application/vnd.google.colaboratory.intrinsic+json": {
              "type": "string"
            }
          },
          "metadata": {},
          "execution_count": 15
        }
      ]
    },
    {
      "cell_type": "code",
      "source": [
        "a=\"hi\"\n",
        "b=\"how are you\"\n",
        "c=\"im fine\""
      ],
      "metadata": {
        "id": "k2Y716joTQtz"
      },
      "execution_count": null,
      "outputs": []
    },
    {
      "cell_type": "code",
      "source": [
        "a\n",
        "c \n",
        "b "
      ],
      "metadata": {
        "colab": {
          "base_uri": "https://localhost:8080/",
          "height": 36
        },
        "id": "EIg96VhJThL-",
        "outputId": "3b00958e-483e-4607-fee3-916341a8b845"
      },
      "execution_count": null,
      "outputs": [
        {
          "output_type": "execute_result",
          "data": {
            "text/plain": [
              "'how are you'"
            ],
            "application/vnd.google.colaboratory.intrinsic+json": {
              "type": "string"
            }
          },
          "metadata": {},
          "execution_count": 18
        }
      ]
    },
    {
      "cell_type": "code",
      "source": [
        "2+3"
      ],
      "metadata": {
        "colab": {
          "base_uri": "https://localhost:8080/"
        },
        "id": "amyaS4FnVCte",
        "outputId": "5f4d5e76-aec8-4c11-fc3e-ca3af65de89e"
      },
      "execution_count": null,
      "outputs": [
        {
          "output_type": "execute_result",
          "data": {
            "text/plain": [
              "5"
            ]
          },
          "metadata": {},
          "execution_count": 19
        }
      ]
    },
    {
      "cell_type": "code",
      "source": [
        "print(7+8 )"
      ],
      "metadata": {
        "colab": {
          "base_uri": "https://localhost:8080/"
        },
        "id": "RH3u0AamVH3w",
        "outputId": "25c6e4fe-b89b-4aaf-f116-be1d2c49f4c0"
      },
      "execution_count": null,
      "outputs": [
        {
          "output_type": "stream",
          "name": "stdout",
          "text": [
            "15\n"
          ]
        }
      ]
    },
    {
      "cell_type": "code",
      "source": [
        "print(\"7\"+\"8\")\n",
        "print(\"7+8\")\n",
        "4^2\n",
        "8**2\n",
        "8*2"
      ],
      "metadata": {
        "colab": {
          "base_uri": "https://localhost:8080/"
        },
        "id": "3jzYLC2opSYl",
        "outputId": "8e0715b6-3c15-45bc-f877-a3c119913fff"
      },
      "execution_count": null,
      "outputs": [
        {
          "output_type": "stream",
          "name": "stdout",
          "text": [
            "78\n",
            "7+8\n"
          ]
        },
        {
          "output_type": "execute_result",
          "data": {
            "text/plain": [
              "16"
            ]
          },
          "metadata": {},
          "execution_count": 7
        }
      ]
    },
    {
      "cell_type": "code",
      "source": [
        "225/5"
      ],
      "metadata": {
        "colab": {
          "base_uri": "https://localhost:8080/"
        },
        "id": "xxXjM8pHs0OY",
        "outputId": "8d79aab4-68c7-4c55-8a23-915356e82bbe"
      },
      "execution_count": null,
      "outputs": [
        {
          "output_type": "execute_result",
          "data": {
            "text/plain": [
              "45.0"
            ]
          },
          "metadata": {},
          "execution_count": 8
        }
      ]
    },
    {
      "cell_type": "code",
      "source": [
        "5**4"
      ],
      "metadata": {
        "colab": {
          "base_uri": "https://localhost:8080/"
        },
        "id": "DciByYDjs9Sy",
        "outputId": "a4dc525a-b6fe-4f0b-ab5c-0994aa82e6ce"
      },
      "execution_count": null,
      "outputs": [
        {
          "output_type": "execute_result",
          "data": {
            "text/plain": [
              "625"
            ]
          },
          "metadata": {},
          "execution_count": 9
        }
      ]
    },
    {
      "cell_type": "code",
      "source": [
        "25.32 #float data type which displays decimal points"
      ],
      "metadata": {
        "colab": {
          "base_uri": "https://localhost:8080/"
        },
        "id": "6g343q-YtB-N",
        "outputId": "0c4c2dd3-2770-47a2-8c15-28b543420766"
      },
      "execution_count": null,
      "outputs": [
        {
          "output_type": "execute_result",
          "data": {
            "text/plain": [
              "25.32"
            ]
          },
          "metadata": {},
          "execution_count": 10
        }
      ]
    },
    {
      "cell_type": "code",
      "source": [
        "type(16) # type() is used to display which data type it is"
      ],
      "metadata": {
        "colab": {
          "base_uri": "https://localhost:8080/"
        },
        "id": "FbC6KoNotibh",
        "outputId": "e156a121-40f9-4ea7-b5dc-f3fcf83e9283"
      },
      "execution_count": null,
      "outputs": [
        {
          "output_type": "execute_result",
          "data": {
            "text/plain": [
              "int"
            ]
          },
          "metadata": {},
          "execution_count": 14
        }
      ]
    },
    {
      "cell_type": "code",
      "source": [
        "a=1500\n",
        "b=500\n",
        "c=800\n",
        "d=900\n",
        "e=258\n",
        "(a+b+c+d+e)/5"
      ],
      "metadata": {
        "colab": {
          "base_uri": "https://localhost:8080/"
        },
        "id": "pH2Zsx8zuLPm",
        "outputId": "73993f9f-aa6f-4042-acc9-12b591e2c39e"
      },
      "execution_count": null,
      "outputs": [
        {
          "output_type": "execute_result",
          "data": {
            "text/plain": [
              "791.6"
            ]
          },
          "metadata": {},
          "execution_count": 15
        }
      ]
    },
    {
      "cell_type": "markdown",
      "source": [],
      "metadata": {
        "id": "mZ-0zANSQbQN"
      }
    },
    {
      "cell_type": "markdown",
      "source": [
        "# Assingment operators\n"
      ],
      "metadata": {
        "id": "mTDm8ztouzS2"
      }
    },
    {
      "cell_type": "code",
      "source": [
        "var=\"8263737t\"\n",
        "print(var)\n",
        "a=12\n",
        "b=13\n",
        "a==b"
      ],
      "metadata": {
        "colab": {
          "base_uri": "https://localhost:8080/"
        },
        "id": "NFbw64FauyDE",
        "outputId": "8fe9f38d-0899-4af2-be2b-84fca6750b97"
      },
      "execution_count": null,
      "outputs": [
        {
          "output_type": "stream",
          "name": "stdout",
          "text": [
            "8263737t\n"
          ]
        },
        {
          "output_type": "execute_result",
          "data": {
            "text/plain": [
              "False"
            ]
          },
          "metadata": {},
          "execution_count": 18
        }
      ]
    },
    {
      "cell_type": "markdown",
      "source": [
        "\n",
        "\n",
        "1.   = => it uses when you want assign\n",
        "2.   == => it used to compare the two **operands**\n",
        "\n",
        "3. < => less than\n",
        "2. > => greater than\n",
        "\n",
        "5.   >= greater than equal to\n",
        "6.   <=  less than equal to\n",
        "\n",
        "\n",
        "\n",
        "\n",
        "\n",
        "\n"
      ],
      "metadata": {
        "id": "caNobJFDvFdb"
      }
    },
    {
      "cell_type": "code",
      "source": [
        "a=b\n",
        "a"
      ],
      "metadata": {
        "colab": {
          "base_uri": "https://localhost:8080/"
        },
        "id": "0DQq1RjbwDxY",
        "outputId": "e2be606f-122d-4792-c1dd-16fc8f62e567"
      },
      "execution_count": null,
      "outputs": [
        {
          "output_type": "execute_result",
          "data": {
            "text/plain": [
              "13"
            ]
          },
          "metadata": {},
          "execution_count": 21
        }
      ]
    },
    {
      "cell_type": "code",
      "source": [
        "a=b+1\n",
        "a"
      ],
      "metadata": {
        "colab": {
          "base_uri": "https://localhost:8080/"
        },
        "id": "2TonhSA1wxon",
        "outputId": "487686b0-400f-48df-dd2f-da03dc21b884"
      },
      "execution_count": null,
      "outputs": [
        {
          "output_type": "execute_result",
          "data": {
            "text/plain": [
              "14"
            ]
          },
          "metadata": {},
          "execution_count": 22
        }
      ]
    },
    {
      "cell_type": "code",
      "source": [
        "57>72"
      ],
      "metadata": {
        "colab": {
          "base_uri": "https://localhost:8080/"
        },
        "id": "w4uMQGRxwzt0",
        "outputId": "c76662f7-a2f0-42da-ed64-67778eaa9436"
      },
      "execution_count": null,
      "outputs": [
        {
          "output_type": "execute_result",
          "data": {
            "text/plain": [
              "False"
            ]
          },
          "metadata": {},
          "execution_count": 23
        }
      ]
    },
    {
      "cell_type": "markdown",
      "source": [
        "# naming the variable"
      ],
      "metadata": {
        "id": "gZq0bTDjyJCl"
      }
    },
    {
      "cell_type": "markdown",
      "source": [
        "\n",
        "\n",
        "*  you should start vairable name with an alphabet or an underscore(_)\n",
        "\n",
        "*   a variable name can only contain alphabet, underscore and 0-9\n",
        "\n",
        "*   you cannot start a variable name with a number\n",
        "*   you cannot use any special characters to start a variable name\n",
        "\n",
        "\n",
        "*   variable names are case sensitive. for example str and Str are two different variables\n",
        "\n",
        "\n",
        "*   do not use reserve keywords such as for, class,def as variable names\n",
        "\n"
      ],
      "metadata": {
        "id": "AbDNn5lRyYT8"
      }
    },
    {
      "cell_type": "code",
      "source": [
        "p=122\n",
        "q=779\n",
        "r=7393\n",
        "(p**2)-(q*2)== 837"
      ],
      "metadata": {
        "colab": {
          "base_uri": "https://localhost:8080/"
        },
        "id": "tVcZBUnnzI_t",
        "outputId": "10d9c822-0706-4247-9a92-e91e637baee9"
      },
      "execution_count": null,
      "outputs": [
        {
          "output_type": "execute_result",
          "data": {
            "text/plain": [
              "False"
            ]
          },
          "metadata": {},
          "execution_count": 26
        }
      ]
    },
    {
      "cell_type": "code",
      "source": [
        "salary=100000\n",
        "tax_deduction=999\n",
        "aftr_tax_deduction= salary-tax_deduction\n",
        "print(aftr_tax_deduction)\n"
      ],
      "metadata": {
        "colab": {
          "base_uri": "https://localhost:8080/"
        },
        "id": "ZcVDB1VE16aA",
        "outputId": "374f07b2-fc2a-421d-8616-f61552e39c7b"
      },
      "execution_count": null,
      "outputs": [
        {
          "output_type": "stream",
          "name": "stdout",
          "text": [
            "99001\n"
          ]
        }
      ]
    },
    {
      "cell_type": "code",
      "source": [
        "bonus=aftr_tax_deduction + 500\n",
        "bonus"
      ],
      "metadata": {
        "colab": {
          "base_uri": "https://localhost:8080/"
        },
        "id": "1pUJjosA2pwG",
        "outputId": "f56d7ea9-fe2e-4a03-bbb0-ebf3c917169e"
      },
      "execution_count": null,
      "outputs": [
        {
          "output_type": "execute_result",
          "data": {
            "text/plain": [
              "99501"
            ]
          },
          "metadata": {},
          "execution_count": 33
        }
      ]
    },
    {
      "cell_type": "code",
      "source": [
        "share_company=2\n",
        "after_30_days = bonus+share_company\n",
        "after_30_days"
      ],
      "metadata": {
        "colab": {
          "base_uri": "https://localhost:8080/"
        },
        "id": "0_IcYxeT24wz",
        "outputId": "d459fa73-acf9-4d74-865f-e1305103d506"
      },
      "execution_count": null,
      "outputs": [
        {
          "output_type": "execute_result",
          "data": {
            "text/plain": [
              "99503"
            ]
          },
          "metadata": {},
          "execution_count": 36
        }
      ]
    },
    {
      "cell_type": "code",
      "source": [
        "after_30_days*0"
      ],
      "metadata": {
        "colab": {
          "base_uri": "https://localhost:8080/"
        },
        "id": "XWmB89zl4VAR",
        "outputId": "81d76ef7-c415-43d3-e352-e6d660271a90"
      },
      "execution_count": null,
      "outputs": [
        {
          "output_type": "execute_result",
          "data": {
            "text/plain": [
              "0"
            ]
          },
          "metadata": {},
          "execution_count": 37
        }
      ]
    },
    {
      "cell_type": "markdown",
      "source": [
        "# boolean operators"
      ],
      "metadata": {
        "id": "-Sp77ijM4ose"
      }
    },
    {
      "cell_type": "markdown",
      "source": [
        "it either displays true or false"
      ],
      "metadata": {
        "id": "ibXUOs7B48Az"
      }
    },
    {
      "cell_type": "code",
      "source": [
        "asd= True\n",
        "pyt=False\n",
        "asd == pyt"
      ],
      "metadata": {
        "colab": {
          "base_uri": "https://localhost:8080/"
        },
        "id": "Wsj32hLk4-_p",
        "outputId": "78617c3b-46da-4e92-ec48-4f6ecd2a0dd0"
      },
      "execution_count": null,
      "outputs": [
        {
          "output_type": "execute_result",
          "data": {
            "text/plain": [
              "False"
            ]
          },
          "metadata": {},
          "execution_count": 41
        }
      ]
    },
    {
      "cell_type": "code",
      "source": [
        "asd is pyt\n"
      ],
      "metadata": {
        "colab": {
          "base_uri": "https://localhost:8080/"
        },
        "id": "6UVwkEj_9hqS",
        "outputId": "20aa8c39-ffb6-4171-c43c-b84386ab91bc"
      },
      "execution_count": null,
      "outputs": [
        {
          "output_type": "execute_result",
          "data": {
            "text/plain": [
              "False"
            ]
          },
          "metadata": {},
          "execution_count": 44
        }
      ]
    },
    {
      "cell_type": "code",
      "source": [
        "asd is not pyt"
      ],
      "metadata": {
        "colab": {
          "base_uri": "https://localhost:8080/"
        },
        "id": "k6xxTc9c9r7U",
        "outputId": "614343d4-9f44-4a54-e7a6-562577cfbf8b"
      },
      "execution_count": null,
      "outputs": [
        {
          "output_type": "execute_result",
          "data": {
            "text/plain": [
              "True"
            ]
          },
          "metadata": {},
          "execution_count": 45
        }
      ]
    },
    {
      "cell_type": "markdown",
      "source": [
        "things we learned in day -1\n",
        "1.python\n",
        "2.datatypes\n",
        "3.arthematic operatons\n",
        "4.operators => arthematic,assingment ,logical\n",
        "4.print function working\n",
        "5.how type,is ,not works\n",
        "6.naming variables\n",
        "7.interpreter vs compiler\n",
        "8.logic gates\n",
        "9.commenting"
      ],
      "metadata": {
        "id": "IhJerS1n95m3"
      }
    },
    {
      "cell_type": "markdown",
      "source": [
        "# Tasks of day1"
      ],
      "metadata": {
        "id": "FXA8teyUEqZ3"
      }
    },
    {
      "cell_type": "code",
      "source": [
        "#find the square root of 67\n",
        "num=67\n",
        "sqr_rt=num**0.5\n",
        "print(sqr_rt)"
      ],
      "metadata": {
        "colab": {
          "base_uri": "https://localhost:8080/"
        },
        "id": "CA3YJ5m8B_ME",
        "outputId": "0d852b9d-8d36-4f1a-a1bb-d5b56d7cea3b"
      },
      "execution_count": null,
      "outputs": [
        {
          "output_type": "stream",
          "name": "stdout",
          "text": [
            "8.18535277187245\n"
          ]
        }
      ]
    },
    {
      "cell_type": "code",
      "source": [
        "#sqare root of triangle 5,6,7\n",
        "a=5\n",
        "b=6\n",
        "c=7\n",
        "s=(a+b+c)/2\n",
        "area=(s*(s-a)*(s-b)*(s-c))**0.5\n",
        "print(area)"
      ],
      "metadata": {
        "colab": {
          "base_uri": "https://localhost:8080/"
        },
        "id": "AADklXUPFGVX",
        "outputId": "1c5f8ec7-7ab0-48e5-9de6-d45243be26f5"
      },
      "execution_count": null,
      "outputs": [
        {
          "output_type": "stream",
          "name": "stdout",
          "text": [
            "14.696938456699069\n"
          ]
        }
      ]
    },
    {
      "cell_type": "code",
      "source": [
        "#swapping of two numbers A=96 b=48\n",
        "a=60\n",
        "b=40\n",
        "a=a+b\n",
        "b=a-b\n",
        "a=a-b\n",
        "print(a,b)\n"
      ],
      "metadata": {
        "colab": {
          "base_uri": "https://localhost:8080/"
        },
        "id": "1O48sLNuIU57",
        "outputId": "aa8b1604-1a0f-4732-995b-099ffbef9492"
      },
      "execution_count": null,
      "outputs": [
        {
          "output_type": "stream",
          "name": "stdout",
          "text": [
            "40 60\n"
          ]
        }
      ]
    },
    {
      "cell_type": "code",
      "source": [
        "#swap of num\n",
        "a=98\n",
        "b=46\n",
        "a,b=b,a\n",
        "print(a,b)\n"
      ],
      "metadata": {
        "colab": {
          "base_uri": "https://localhost:8080/"
        },
        "id": "4DCIRPGnJZBm",
        "outputId": "ddbcef04-5093-4835-e84b-9978ab6142ec"
      },
      "execution_count": null,
      "outputs": [
        {
          "output_type": "stream",
          "name": "stdout",
          "text": [
            "46 98\n"
          ]
        }
      ]
    },
    {
      "cell_type": "code",
      "source": [
        "#convert 98 kilometers into miles\n",
        "km=98\n",
        "miles=km*0.62\n",
        "print(miles)"
      ],
      "metadata": {
        "colab": {
          "base_uri": "https://localhost:8080/"
        },
        "id": "sQP6SIZlKE3D",
        "outputId": "7212682a-0458-44cc-ba4d-a937484d5363"
      },
      "execution_count": null,
      "outputs": [
        {
          "output_type": "stream",
          "name": "stdout",
          "text": [
            "60.76\n"
          ]
        }
      ]
    },
    {
      "cell_type": "markdown",
      "source": [
        "# revision day1"
      ],
      "metadata": {
        "id": "RHZOlMljL4iC"
      }
    },
    {
      "cell_type": "code",
      "source": [
        "print(\"12\"*2)"
      ],
      "metadata": {
        "colab": {
          "base_uri": "https://localhost:8080/"
        },
        "id": "aSs2Am2OLr5L",
        "outputId": "31f9d32b-959f-41a1-f14d-61e85b17e595"
      },
      "execution_count": null,
      "outputs": [
        {
          "output_type": "stream",
          "name": "stdout",
          "text": [
            "1212\n"
          ]
        }
      ]
    },
    {
      "cell_type": "code",
      "source": [
        "print(\"hi\"*3)"
      ],
      "metadata": {
        "colab": {
          "base_uri": "https://localhost:8080/"
        },
        "id": "LienQx6kLvgZ",
        "outputId": "a88a99d4-a3af-4ea4-adb3-d13eefba00f0"
      },
      "execution_count": null,
      "outputs": [
        {
          "output_type": "stream",
          "name": "stdout",
          "text": [
            "hihihi\n"
          ]
        }
      ]
    },
    {
      "cell_type": "code",
      "source": [
        "print(\"1\"*3)"
      ],
      "metadata": {
        "colab": {
          "base_uri": "https://localhost:8080/"
        },
        "id": "xzpVGO0_LzdD",
        "outputId": "e7191de7-ba9f-4fe3-fed3-108ac39fb274"
      },
      "execution_count": null,
      "outputs": [
        {
          "output_type": "stream",
          "name": "stdout",
          "text": [
            "111\n"
          ]
        }
      ]
    },
    {
      "cell_type": "code",
      "source": [
        "var=21\n",
        "vari=87\n",
        "varo=32\n",
        "print(var+vari+varo)"
      ],
      "metadata": {
        "colab": {
          "base_uri": "https://localhost:8080/"
        },
        "id": "iDRVzg4PMC8f",
        "outputId": "81c9664d-7152-4eb6-840f-8cbeaa282bda"
      },
      "execution_count": null,
      "outputs": [
        {
          "output_type": "stream",
          "name": "stdout",
          "text": [
            "140\n"
          ]
        }
      ]
    },
    {
      "cell_type": "code",
      "source": [
        "a=89\n",
        "b=89\n",
        "a==b"
      ],
      "metadata": {
        "colab": {
          "base_uri": "https://localhost:8080/"
        },
        "id": "FU6rOe3AM5dS",
        "outputId": "0ff9d56a-5c0c-4dc7-df68-0a2a20a683b6"
      },
      "execution_count": null,
      "outputs": [
        {
          "output_type": "execute_result",
          "data": {
            "text/plain": [
              "True"
            ]
          },
          "metadata": {},
          "execution_count": 17
        }
      ]
    },
    {
      "cell_type": "code",
      "source": [
        "a is b"
      ],
      "metadata": {
        "colab": {
          "base_uri": "https://localhost:8080/"
        },
        "id": "3HEFfsWCNHFN",
        "outputId": "095085cc-d5ec-4a59-ba23-c230e9e44ca8"
      },
      "execution_count": null,
      "outputs": [
        {
          "output_type": "execute_result",
          "data": {
            "text/plain": [
              "True"
            ]
          },
          "metadata": {},
          "execution_count": 18
        }
      ]
    },
    {
      "cell_type": "code",
      "source": [
        "x=89\n",
        "b=98\n",
        "x is not b"
      ],
      "metadata": {
        "colab": {
          "base_uri": "https://localhost:8080/"
        },
        "id": "_GE0cFp9NKbc",
        "outputId": "fd73b919-8a83-4e43-eca0-82999cfd27b2"
      },
      "execution_count": null,
      "outputs": [
        {
          "output_type": "execute_result",
          "data": {
            "text/plain": [
              "True"
            ]
          },
          "metadata": {},
          "execution_count": 19
        }
      ]
    },
    {
      "cell_type": "code",
      "source": [
        "x != b"
      ],
      "metadata": {
        "colab": {
          "base_uri": "https://localhost:8080/"
        },
        "id": "ycU-_FlaNQQd",
        "outputId": "bf9997f5-3a21-4a46-873b-44aaf93a77b1"
      },
      "execution_count": null,
      "outputs": [
        {
          "output_type": "execute_result",
          "data": {
            "text/plain": [
              "True"
            ]
          },
          "metadata": {},
          "execution_count": 20
        }
      ]
    },
    {
      "cell_type": "code",
      "source": [
        "shape=12\n",
        "name=shape+2\n",
        "name"
      ],
      "metadata": {
        "colab": {
          "base_uri": "https://localhost:8080/"
        },
        "id": "yrp_PsCpNV4U",
        "outputId": "6ee17754-de08-4f54-dfd6-42cd9c997893"
      },
      "execution_count": null,
      "outputs": [
        {
          "output_type": "execute_result",
          "data": {
            "text/plain": [
              "14"
            ]
          },
          "metadata": {},
          "execution_count": 21
        }
      ]
    },
    {
      "cell_type": "markdown",
      "source": [
        "# DAy-2\n",
        "# string methods"
      ],
      "metadata": {
        "id": "Jyp_ZO9lNxtQ"
      }
    },
    {
      "cell_type": "markdown",
      "source": [
        "for example let us take a string\"hey my name is nothing\"\n",
        "if \n",
        "we use capitalize() it converts the \n",
        "\n",
        "*   we use capitalize() it converts the first letter into uppercas\n",
        "*   if we use*len()* it shows the number of characters in the string\n",
        "\n",
        "* endswith()  finds the substring which ends with the specifies character\n",
        "*   List item\n",
        "\n",
        "\n",
        "\n",
        "\n",
        "\n",
        "\n",
        "\n",
        "\n",
        "\n",
        "\n",
        "\n",
        "\n"
      ],
      "metadata": {
        "id": "oW6mTlbDO_iQ"
      }
    },
    {
      "cell_type": "markdown",
      "source": [
        "indexing starts from 0 and not from 1"
      ],
      "metadata": {
        "id": "s61y36fyN7C8"
      }
    },
    {
      "cell_type": "markdown",
      "source": [
        "SLICING-cutting a string\n",
        "suppose we have hello world and we want to split \"\"LO WO\" from HELLO WORLD\n",
        "we use the slicing function\n",
        "and we achive this with the help of **indexing**"
      ],
      "metadata": {
        "id": "9j86FljPPJua"
      }
    },
    {
      "cell_type": "code",
      "source": [
        "string1=\"wednesday is a cool web series\"\n"
      ],
      "metadata": {
        "id": "1WNUStAGNsKr"
      },
      "execution_count": null,
      "outputs": []
    },
    {
      "cell_type": "code",
      "source": [
        "# [] square brackets\n",
        "# {} curly brackets\n",
        "# paranthesis"
      ],
      "metadata": {
        "id": "KSn9lLqtRnEx"
      },
      "execution_count": null,
      "outputs": []
    },
    {
      "cell_type": "markdown",
      "source": [
        "capitalize()"
      ],
      "metadata": {
        "id": "Dldw_77VRcd4"
      }
    },
    {
      "cell_type": "code",
      "source": [
        "string1.capitalize()"
      ],
      "metadata": {
        "colab": {
          "base_uri": "https://localhost:8080/",
          "height": 35
        },
        "id": "2rQ1QSgyRTUR",
        "outputId": "8f4978e7-3da2-4a50-b357-988e889c029d"
      },
      "execution_count": null,
      "outputs": [
        {
          "output_type": "execute_result",
          "data": {
            "text/plain": [
              "'Wednesday is a cool web series'"
            ],
            "application/vnd.google.colaboratory.intrinsic+json": {
              "type": "string"
            }
          },
          "metadata": {},
          "execution_count": 4
        }
      ]
    },
    {
      "cell_type": "markdown",
      "source": [],
      "metadata": {
        "id": "K11anQhOR_lE"
      }
    },
    {
      "cell_type": "code",
      "source": [
        "'''capitalize string does not make changes to the main string but makes a copy of\n",
        " the string to make changes'''\n",
        "string1"
      ],
      "metadata": {
        "colab": {
          "base_uri": "https://localhost:8080/",
          "height": 35
        },
        "id": "hyYawUYwR8aB",
        "outputId": "3f27592a-d22c-4726-ea99-15a36f2f967e"
      },
      "execution_count": null,
      "outputs": [
        {
          "output_type": "execute_result",
          "data": {
            "text/plain": [
              "'wednesday is a cool web series'"
            ],
            "application/vnd.google.colaboratory.intrinsic+json": {
              "type": "string"
            }
          },
          "metadata": {},
          "execution_count": 7
        }
      ]
    },
    {
      "cell_type": "markdown",
      "source": [
        "if we want it to change in the main string as well assign the updated string to the main variable"
      ],
      "metadata": {
        "id": "mIqOBtb5Sk8B"
      }
    },
    {
      "cell_type": "code",
      "source": [
        "string1=string1.capitalize()\n",
        "string1"
      ],
      "metadata": {
        "colab": {
          "base_uri": "https://localhost:8080/",
          "height": 35
        },
        "id": "CGCY5L0-R9r0",
        "outputId": "d98a93b8-df9e-400c-cc08-c4c84173a718"
      },
      "execution_count": null,
      "outputs": [
        {
          "output_type": "execute_result",
          "data": {
            "text/plain": [
              "'Wednesday is a cool web series'"
            ],
            "application/vnd.google.colaboratory.intrinsic+json": {
              "type": "string"
            }
          },
          "metadata": {},
          "execution_count": 9
        }
      ]
    },
    {
      "cell_type": "markdown",
      "source": [
        "* len()"
      ],
      "metadata": {
        "id": "polbRa45TfVs"
      }
    },
    {
      "cell_type": "code",
      "source": [
        "# len() gives the number of characters in the string\n",
        "len(string1)"
      ],
      "metadata": {
        "colab": {
          "base_uri": "https://localhost:8080/"
        },
        "id": "h6PbCaajTnaA",
        "outputId": "0486028a-a844-4a82-8349-419e1a823269"
      },
      "execution_count": null,
      "outputs": [
        {
          "output_type": "execute_result",
          "data": {
            "text/plain": [
              "30"
            ]
          },
          "metadata": {},
          "execution_count": 11
        }
      ]
    },
    {
      "cell_type": "markdown",
      "source": [
        " * center()"
      ],
      "metadata": {
        "id": "MXdtOgAnUCOW"
      }
    },
    {
      "cell_type": "code",
      "source": [
        "# center() will the align the string into center\n",
        "#####vivek#####\n",
        "#variable.center(len,char)      "
      ],
      "metadata": {
        "id": "xG3BqM4fUHKX"
      },
      "execution_count": null,
      "outputs": []
    },
    {
      "cell_type": "code",
      "source": [
        "string1.center(10,\"*\")\n",
        "string1\n",
        "#it is not working because the value we gave 10 must be greater than the string"
      ],
      "metadata": {
        "colab": {
          "base_uri": "https://localhost:8080/",
          "height": 35
        },
        "id": "0x2KXdPSUpCf",
        "outputId": "0b03b692-00fc-4a42-dacc-bd96c5cc5438"
      },
      "execution_count": null,
      "outputs": [
        {
          "output_type": "execute_result",
          "data": {
            "text/plain": [
              "'Wednesday is a cool web series'"
            ],
            "application/vnd.google.colaboratory.intrinsic+json": {
              "type": "string"
            }
          },
          "metadata": {},
          "execution_count": 14
        }
      ]
    },
    {
      "cell_type": "code",
      "source": [
        "string1.center(30,\"*\")"
      ],
      "metadata": {
        "colab": {
          "base_uri": "https://localhost:8080/",
          "height": 35
        },
        "id": "gZBooGSQVaNM",
        "outputId": "869cfeff-cfc4-48ec-ec20-f0815a000ba7"
      },
      "execution_count": null,
      "outputs": [
        {
          "output_type": "execute_result",
          "data": {
            "text/plain": [
              "'Wednesday is a cool web series'"
            ],
            "application/vnd.google.colaboratory.intrinsic+json": {
              "type": "string"
            }
          },
          "metadata": {},
          "execution_count": 15
        }
      ]
    },
    {
      "cell_type": "markdown",
      "source": [
        "* endsswith()"
      ],
      "metadata": {
        "id": "dkJ2guM0VrRH"
      }
    },
    {
      "cell_type": "code",
      "source": [
        "# it only provides its answer in boolean\n",
        "#string1.endswith(value,start,end)\n",
        "string1.endswith(\"s\")"
      ],
      "metadata": {
        "colab": {
          "base_uri": "https://localhost:8080/"
        },
        "id": "8I5D1WykVetO",
        "outputId": "a123fd86-34a2-478b-b915-e2480f055715"
      },
      "execution_count": null,
      "outputs": [
        {
          "output_type": "execute_result",
          "data": {
            "text/plain": [
              "True"
            ]
          },
          "metadata": {},
          "execution_count": 16
        }
      ]
    },
    {
      "cell_type": "code",
      "source": [
        "string1.endswith(\"y\",0,9)"
      ],
      "metadata": {
        "colab": {
          "base_uri": "https://localhost:8080/"
        },
        "id": "5NHa0pgIWNPC",
        "outputId": "ad032827-acf5-4788-ec9c-3c186797eda6"
      },
      "execution_count": null,
      "outputs": [
        {
          "output_type": "execute_result",
          "data": {
            "text/plain": [
              "True"
            ]
          },
          "metadata": {},
          "execution_count": 17
        }
      ]
    },
    {
      "cell_type": "markdown",
      "source": [
        "* startswith()"
      ],
      "metadata": {
        "id": "baJH-xTQWzBR"
      }
    },
    {
      "cell_type": "code",
      "source": [
        "#string1.startswith(value,start,end)"
      ],
      "metadata": {
        "id": "kjv6q_3pWeva"
      },
      "execution_count": null,
      "outputs": []
    },
    {
      "cell_type": "code",
      "source": [
        "string1.startswith(\"w\")\n",
        "#it is showing false because the main string is in uppercase"
      ],
      "metadata": {
        "colab": {
          "base_uri": "https://localhost:8080/"
        },
        "id": "q2JrktmvXF2w",
        "outputId": "57733559-1fa2-4a5a-abba-6d9587041956"
      },
      "execution_count": null,
      "outputs": [
        {
          "output_type": "execute_result",
          "data": {
            "text/plain": [
              "False"
            ]
          },
          "metadata": {},
          "execution_count": 19
        }
      ]
    },
    {
      "cell_type": "code",
      "source": [
        "string1.startswith(\"W\")"
      ],
      "metadata": {
        "colab": {
          "base_uri": "https://localhost:8080/"
        },
        "id": "6a9eqOXdXWT-",
        "outputId": "d864e815-cf17-4361-c371-d8bd74339565"
      },
      "execution_count": null,
      "outputs": [
        {
          "output_type": "execute_result",
          "data": {
            "text/plain": [
              "True"
            ]
          },
          "metadata": {},
          "execution_count": 20
        }
      ]
    },
    {
      "cell_type": "markdown",
      "source": [
        "* count()"
      ],
      "metadata": {
        "id": "ChpNuz-4XmZg"
      }
    },
    {
      "cell_type": "code",
      "source": [
        "string1\n",
        "#count is used to tell us how many time our specifed character is repeating\n",
        "print(string1)\n",
        "string1.count(\"e\")"
      ],
      "metadata": {
        "colab": {
          "base_uri": "https://localhost:8080/"
        },
        "id": "gMuzhjC8Xare",
        "outputId": "b8e1db50-3a89-433b-dce4-6ff38dc61c08"
      },
      "execution_count": null,
      "outputs": [
        {
          "output_type": "stream",
          "name": "stdout",
          "text": [
            "Wednesday is a cool web series\n"
          ]
        },
        {
          "output_type": "execute_result",
          "data": {
            "text/plain": [
              "5"
            ]
          },
          "metadata": {},
          "execution_count": 23
        }
      ]
    },
    {
      "cell_type": "code",
      "source": [
        "string1.count(\"o\")"
      ],
      "metadata": {
        "colab": {
          "base_uri": "https://localhost:8080/"
        },
        "id": "5VPUzwsEYabz",
        "outputId": "de981417-d2d4-4351-fc27-1577e352c6f7"
      },
      "execution_count": null,
      "outputs": [
        {
          "output_type": "execute_result",
          "data": {
            "text/plain": [
              "2"
            ]
          },
          "metadata": {},
          "execution_count": 24
        }
      ]
    },
    {
      "cell_type": "markdown",
      "source": [
        "* upper()&lower()"
      ],
      "metadata": {
        "id": "4wyR2IcaYg0A"
      }
    },
    {
      "cell_type": "code",
      "source": [
        "#upper() turns the string into uppercase\n",
        "#lower() turns the string into lowercase\n",
        "#syntax string1.upper()\n",
        "#syntax string1.lower()"
      ],
      "metadata": {
        "id": "WXwJefBHX-h3"
      },
      "execution_count": null,
      "outputs": []
    },
    {
      "cell_type": "code",
      "source": [
        "string1.upper()"
      ],
      "metadata": {
        "colab": {
          "base_uri": "https://localhost:8080/",
          "height": 35
        },
        "id": "_bILzoujY7ED",
        "outputId": "17450406-6942-4462-8b9e-ae43608a3a27"
      },
      "execution_count": null,
      "outputs": [
        {
          "output_type": "execute_result",
          "data": {
            "text/plain": [
              "'WEDNESDAY IS A COOL WEB SERIES'"
            ],
            "application/vnd.google.colaboratory.intrinsic+json": {
              "type": "string"
            }
          },
          "metadata": {},
          "execution_count": 25
        }
      ]
    },
    {
      "cell_type": "code",
      "source": [
        "string1.lower()"
      ],
      "metadata": {
        "colab": {
          "base_uri": "https://localhost:8080/",
          "height": 35
        },
        "id": "L0VkK3XfY-f_",
        "outputId": "338c4755-54b0-4583-a0ab-026319f6aa9d"
      },
      "execution_count": null,
      "outputs": [
        {
          "output_type": "execute_result",
          "data": {
            "text/plain": [
              "'wednesday is a cool web series'"
            ],
            "application/vnd.google.colaboratory.intrinsic+json": {
              "type": "string"
            }
          },
          "metadata": {},
          "execution_count": 26
        }
      ]
    },
    {
      "cell_type": "markdown",
      "source": [
        "# inputs"
      ],
      "metadata": {
        "id": "GMWnee-UZbbK"
      }
    },
    {
      "cell_type": "code",
      "source": [
        "# input() function is used to take input from the user\n",
        "#input by default gives output as string"
      ],
      "metadata": {
        "id": "IFavJCdXZOHf"
      },
      "execution_count": null,
      "outputs": []
    },
    {
      "cell_type": "code",
      "source": [
        "a=input()\n",
        "type(a)"
      ],
      "metadata": {
        "colab": {
          "base_uri": "https://localhost:8080/"
        },
        "id": "-co7z2H6aDg-",
        "outputId": "7c07bc40-3ba1-407b-d970-ec22f37d9d25"
      },
      "execution_count": null,
      "outputs": [
        {
          "name": "stdout",
          "output_type": "stream",
          "text": [
            "5\n"
          ]
        },
        {
          "output_type": "execute_result",
          "data": {
            "text/plain": [
              "str"
            ]
          },
          "metadata": {},
          "execution_count": 30
        }
      ]
    },
    {
      "cell_type": "code",
      "source": [
        "a=input()\n",
        "b=input()\n",
        "a+b\n"
      ],
      "metadata": {
        "colab": {
          "base_uri": "https://localhost:8080/",
          "height": 70
        },
        "id": "BKXeUxOgaTEP",
        "outputId": "cc51f800-6a69-4f53-f085-66da1eed2b6f"
      },
      "execution_count": null,
      "outputs": [
        {
          "name": "stdout",
          "output_type": "stream",
          "text": [
            "15\n",
            "5\n"
          ]
        },
        {
          "output_type": "execute_result",
          "data": {
            "text/plain": [
              "'155'"
            ],
            "application/vnd.google.colaboratory.intrinsic+json": {
              "type": "string"
            }
          },
          "metadata": {},
          "execution_count": 32
        }
      ]
    },
    {
      "cell_type": "code",
      "source": [
        "type(a+b)"
      ],
      "metadata": {
        "colab": {
          "base_uri": "https://localhost:8080/"
        },
        "id": "dkYJvhaVayB8",
        "outputId": "1528b725-3f9b-4a72-be49-8fbc08af33b0"
      },
      "execution_count": null,
      "outputs": [
        {
          "output_type": "execute_result",
          "data": {
            "text/plain": [
              "str"
            ]
          },
          "metadata": {},
          "execution_count": 33
        }
      ]
    },
    {
      "cell_type": "markdown",
      "source": [
        "# typecasting"
      ],
      "metadata": {
        "id": "P92x3dudbIAY"
      }
    },
    {
      "cell_type": "code",
      "source": [
        "type(12)"
      ],
      "metadata": {
        "colab": {
          "base_uri": "https://localhost:8080/"
        },
        "id": "WMA-mQnFbLk5",
        "outputId": "050aaea9-1782-43f6-966e-c2e87050af77"
      },
      "execution_count": null,
      "outputs": [
        {
          "output_type": "execute_result",
          "data": {
            "text/plain": [
              "int"
            ]
          },
          "metadata": {},
          "execution_count": 34
        }
      ]
    },
    {
      "cell_type": "code",
      "source": [
        "#typecasting is used to change the type of a variable into different datatype"
      ],
      "metadata": {
        "id": "dcdpUjMgbQxo"
      },
      "execution_count": null,
      "outputs": []
    },
    {
      "cell_type": "code",
      "source": [
        "type(\"12\")"
      ],
      "metadata": {
        "colab": {
          "base_uri": "https://localhost:8080/"
        },
        "id": "dS1Kq1nuba3p",
        "outputId": "0f77650e-e8ce-411a-c0d0-287d6be41eca"
      },
      "execution_count": null,
      "outputs": [
        {
          "output_type": "execute_result",
          "data": {
            "text/plain": [
              "str"
            ]
          },
          "metadata": {},
          "execution_count": 35
        }
      ]
    },
    {
      "cell_type": "code",
      "source": [
        "age=22\n"
      ],
      "metadata": {
        "id": "jn2iKBdUbe1U"
      },
      "execution_count": null,
      "outputs": []
    },
    {
      "cell_type": "code",
      "source": [
        "type(age)"
      ],
      "metadata": {
        "colab": {
          "base_uri": "https://localhost:8080/"
        },
        "id": "Ukpumjbrbi83",
        "outputId": "8c2fa858-1314-4fec-dad0-25dcdd870eec"
      },
      "execution_count": null,
      "outputs": [
        {
          "output_type": "execute_result",
          "data": {
            "text/plain": [
              "int"
            ]
          },
          "metadata": {},
          "execution_count": 37
        }
      ]
    },
    {
      "cell_type": "code",
      "source": [
        "type(str(age))"
      ],
      "metadata": {
        "colab": {
          "base_uri": "https://localhost:8080/"
        },
        "id": "ZxNrsdvAbkK4",
        "outputId": "2941c80b-7ba3-4334-f9b8-6223cee0380a"
      },
      "execution_count": null,
      "outputs": [
        {
          "output_type": "execute_result",
          "data": {
            "text/plain": [
              "str"
            ]
          },
          "metadata": {},
          "execution_count": 38
        }
      ]
    },
    {
      "cell_type": "code",
      "source": [
        "type(age)"
      ],
      "metadata": {
        "colab": {
          "base_uri": "https://localhost:8080/"
        },
        "id": "VOCylVLzbpVt",
        "outputId": "4b7520da-538a-48ef-c2aa-5ae26ffd9031"
      },
      "execution_count": null,
      "outputs": [
        {
          "output_type": "execute_result",
          "data": {
            "text/plain": [
              "int"
            ]
          },
          "metadata": {},
          "execution_count": 39
        }
      ]
    },
    {
      "cell_type": "code",
      "source": [
        "height=5\n",
        "type(height)"
      ],
      "metadata": {
        "colab": {
          "base_uri": "https://localhost:8080/"
        },
        "id": "6mcJNcywbyo9",
        "outputId": "19845099-a212-4a83-da03-53765601fa7c"
      },
      "execution_count": null,
      "outputs": [
        {
          "output_type": "execute_result",
          "data": {
            "text/plain": [
              "int"
            ]
          },
          "metadata": {},
          "execution_count": 40
        }
      ]
    },
    {
      "cell_type": "code",
      "source": [
        "type(str(height))"
      ],
      "metadata": {
        "colab": {
          "base_uri": "https://localhost:8080/"
        },
        "id": "m17-cQ1VcJbM",
        "outputId": "cf9d56d9-f79a-4b7a-9a42-dd299990485b"
      },
      "execution_count": null,
      "outputs": [
        {
          "output_type": "execute_result",
          "data": {
            "text/plain": [
              "str"
            ]
          },
          "metadata": {},
          "execution_count": 41
        }
      ]
    },
    {
      "cell_type": "code",
      "source": [
        "type(height)"
      ],
      "metadata": {
        "colab": {
          "base_uri": "https://localhost:8080/"
        },
        "id": "azr0IZkzcNFT",
        "outputId": "09c3484a-7fad-48d7-cb24-9892859942ee"
      },
      "execution_count": null,
      "outputs": [
        {
          "output_type": "execute_result",
          "data": {
            "text/plain": [
              "int"
            ]
          },
          "metadata": {},
          "execution_count": 42
        }
      ]
    },
    {
      "cell_type": "code",
      "source": [
        "a=int(input())\n",
        "b=input()"
      ],
      "metadata": {
        "colab": {
          "base_uri": "https://localhost:8080/"
        },
        "id": "53P95yJRcO3d",
        "outputId": "240af84a-168d-4842-d548-31c830769e8c"
      },
      "execution_count": null,
      "outputs": [
        {
          "name": "stdout",
          "output_type": "stream",
          "text": [
            "15\n",
            "22\n"
          ]
        }
      ]
    },
    {
      "cell_type": "code",
      "source": [
        "a+b"
      ],
      "metadata": {
        "colab": {
          "base_uri": "https://localhost:8080/",
          "height": 165
        },
        "id": "taC2fSAncbe3",
        "outputId": "2869ca4f-06a0-42f7-b5c2-3ab7c969919a"
      },
      "execution_count": null,
      "outputs": [
        {
          "output_type": "error",
          "ename": "TypeError",
          "evalue": "ignored",
          "traceback": [
            "\u001b[0;31m---------------------------------------------------------------------------\u001b[0m",
            "\u001b[0;31mTypeError\u001b[0m                                 Traceback (most recent call last)",
            "\u001b[0;32m<ipython-input-44-ca730b97bf8a>\u001b[0m in \u001b[0;36m<module>\u001b[0;34m\u001b[0m\n\u001b[0;32m----> 1\u001b[0;31m \u001b[0ma\u001b[0m\u001b[0;34m+\u001b[0m\u001b[0mb\u001b[0m\u001b[0;34m\u001b[0m\u001b[0;34m\u001b[0m\u001b[0m\n\u001b[0m",
            "\u001b[0;31mTypeError\u001b[0m: unsupported operand type(s) for +: 'int' and 'str'"
          ]
        }
      ]
    },
    {
      "cell_type": "code",
      "source": [
        "#we get an error because onw input is taken as int\n",
        "#as we used type casting int but input() default takes it as string"
      ],
      "metadata": {
        "id": "VGEdbUVfce7b"
      },
      "execution_count": null,
      "outputs": []
    },
    {
      "cell_type": "code",
      "source": [
        "type(a)"
      ],
      "metadata": {
        "colab": {
          "base_uri": "https://localhost:8080/"
        },
        "id": "yljpeybGcqO6",
        "outputId": "e58e2b11-481b-4b15-a849-27417e245d24"
      },
      "execution_count": null,
      "outputs": [
        {
          "output_type": "execute_result",
          "data": {
            "text/plain": [
              "int"
            ]
          },
          "metadata": {},
          "execution_count": 47
        }
      ]
    },
    {
      "cell_type": "code",
      "source": [
        "type(b)"
      ],
      "metadata": {
        "colab": {
          "base_uri": "https://localhost:8080/"
        },
        "id": "rNXuqkg9c2-T",
        "outputId": "69480520-1bc7-435e-9ff9-0583c710ce20"
      },
      "execution_count": null,
      "outputs": [
        {
          "output_type": "execute_result",
          "data": {
            "text/plain": [
              "str"
            ]
          },
          "metadata": {},
          "execution_count": 48
        }
      ]
    },
    {
      "cell_type": "code",
      "source": [
        "a=int(input())\n",
        "b=int(input())"
      ],
      "metadata": {
        "colab": {
          "base_uri": "https://localhost:8080/"
        },
        "id": "ivIJ-l-8c55Q",
        "outputId": "fbdef299-d95c-4dfd-be2b-52e94904ba39"
      },
      "execution_count": null,
      "outputs": [
        {
          "name": "stdout",
          "output_type": "stream",
          "text": [
            "15\n",
            "25\n"
          ]
        }
      ]
    },
    {
      "cell_type": "code",
      "source": [
        "a+b"
      ],
      "metadata": {
        "colab": {
          "base_uri": "https://localhost:8080/"
        },
        "id": "vu504WsVc_YE",
        "outputId": "8e9b7db9-9d22-47c4-aa52-b74e914c42ae"
      },
      "execution_count": null,
      "outputs": [
        {
          "output_type": "execute_result",
          "data": {
            "text/plain": [
              "40"
            ]
          },
          "metadata": {},
          "execution_count": 50
        }
      ]
    },
    {
      "cell_type": "code",
      "source": [
        "a=int(input(\"enter the value of a \"))\n",
        "b=int(input(\"enter the value of b \"))"
      ],
      "metadata": {
        "colab": {
          "base_uri": "https://localhost:8080/"
        },
        "id": "o1H9osMxdCi_",
        "outputId": "c125c39f-c37e-43a8-e9f3-4bbcf5563eb7"
      },
      "execution_count": null,
      "outputs": [
        {
          "name": "stdout",
          "output_type": "stream",
          "text": [
            "enter the value of a 55\n",
            "enter the value of b 45\n"
          ]
        }
      ]
    },
    {
      "cell_type": "code",
      "source": [
        "a+b"
      ],
      "metadata": {
        "colab": {
          "base_uri": "https://localhost:8080/"
        },
        "id": "ERla-vBOdPI0",
        "outputId": "3a7aebff-ced4-4d1d-c8dc-69da41bb0b4a"
      },
      "execution_count": null,
      "outputs": [
        {
          "output_type": "execute_result",
          "data": {
            "text/plain": [
              "100"
            ]
          },
          "metadata": {},
          "execution_count": 52
        }
      ]
    },
    {
      "cell_type": "markdown",
      "source": [
        "# python data structures"
      ],
      "metadata": {
        "id": "jv6fUdsVdXPy"
      }
    },
    {
      "cell_type": "code",
      "source": [
        "#data structures\n",
        "#arrays\n",
        "#stack\n",
        "#queue\n",
        "#LinkedList\n",
        "#hashing\n",
        "#graphs\n",
        "#trees"
      ],
      "metadata": {
        "id": "rNOwO_gbdRz-"
      },
      "execution_count": null,
      "outputs": []
    },
    {
      "cell_type": "markdown",
      "source": [
        "Python data structures\n",
        "\n",
        "1.   List - [] - [12,\"string\",\"float\",{\"key\"}:\"value\"]\n",
        "2.   Tuple - ()-\n",
        "3.   Dictonary - { key: value}\n",
        "4.  Set - { 1,2 3}\n",
        "\n"
      ],
      "metadata": {
        "id": "JJvKZTuBd6Tw"
      }
    },
    {
      "cell_type": "code",
      "source": [
        "# list can contain datas of any datatype\n",
        "#whereas array only contains data of single data type\n"
      ],
      "metadata": {
        "id": "eZT9f5WieJP5"
      },
      "execution_count": null,
      "outputs": []
    },
    {
      "cell_type": "code",
      "source": [
        "#tuple is same as list  but only difference is a value in list can be changed\n",
        "# but a value in tuple cannot be changed"
      ],
      "metadata": {
        "id": "dinqDsuhfwZ7"
      },
      "execution_count": null,
      "outputs": []
    },
    {
      "cell_type": "code",
      "source": [
        "#dictionary\n",
        "#computer:A machine that understand humans\n",
        "\n",
        "a=4\n",
        "a"
      ],
      "metadata": {
        "colab": {
          "base_uri": "https://localhost:8080/"
        },
        "id": "ce6d-aoMgQ4J",
        "outputId": "5efed578-4d21-4e09-e877-27f5e012c4be"
      },
      "execution_count": null,
      "outputs": [
        {
          "output_type": "execute_result",
          "data": {
            "text/plain": [
              "4"
            ]
          },
          "metadata": {},
          "execution_count": 53
        }
      ]
    },
    {
      "cell_type": "code",
      "source": [
        "#set never contains the elements that are repeated\n",
        "#whereas list can contain multiple repetetions\n",
        "#set can only be used in the form of integers"
      ],
      "metadata": {
        "id": "MWbCZVdcgu0O"
      },
      "execution_count": null,
      "outputs": []
    },
    {
      "cell_type": "markdown",
      "source": [
        "# revision day-2"
      ],
      "metadata": {
        "id": "LwNk5ZV9jQWt"
      }
    },
    {
      "cell_type": "code",
      "source": [
        "email=\"dear professor\"\n",
        "email=email.capitalize()\n",
        "email"
      ],
      "metadata": {
        "colab": {
          "base_uri": "https://localhost:8080/",
          "height": 35
        },
        "id": "7VTSSX5nib0C",
        "outputId": "3d2056d8-75f7-4f15-b088-d21864a94845"
      },
      "execution_count": null,
      "outputs": [
        {
          "output_type": "execute_result",
          "data": {
            "text/plain": [
              "'Dear professor'"
            ],
            "application/vnd.google.colaboratory.intrinsic+json": {
              "type": "string"
            }
          },
          "metadata": {},
          "execution_count": 42
        }
      ]
    },
    {
      "cell_type": "code",
      "source": [
        "email=email.upper()\n",
        "email"
      ],
      "metadata": {
        "id": "zcdxAKS_iuJF",
        "colab": {
          "base_uri": "https://localhost:8080/",
          "height": 35
        },
        "outputId": "5469c673-8452-46b8-d51f-3894a944b61f"
      },
      "execution_count": null,
      "outputs": [
        {
          "output_type": "execute_result",
          "data": {
            "text/plain": [
              "'DEAR PROFESSOR'"
            ],
            "application/vnd.google.colaboratory.intrinsic+json": {
              "type": "string"
            }
          },
          "metadata": {},
          "execution_count": 43
        }
      ]
    },
    {
      "cell_type": "code",
      "source": [
        "email"
      ],
      "metadata": {
        "id": "GorTHWwwkYVp",
        "colab": {
          "base_uri": "https://localhost:8080/",
          "height": 35
        },
        "outputId": "ef70d89e-6c91-4fc8-e3a5-a2066b00ed20"
      },
      "execution_count": null,
      "outputs": [
        {
          "output_type": "execute_result",
          "data": {
            "text/plain": [
              "'DEAR PROFESSOR'"
            ],
            "application/vnd.google.colaboratory.intrinsic+json": {
              "type": "string"
            }
          },
          "metadata": {},
          "execution_count": 44
        }
      ]
    },
    {
      "cell_type": "code",
      "source": [
        "email.lower()"
      ],
      "metadata": {
        "colab": {
          "base_uri": "https://localhost:8080/",
          "height": 35
        },
        "id": "IVFQlg0wBDRP",
        "outputId": "669a86e3-9b7e-4aa0-8e89-f5dcbf39471f"
      },
      "execution_count": null,
      "outputs": [
        {
          "output_type": "execute_result",
          "data": {
            "text/plain": [
              "'dear professor'"
            ],
            "application/vnd.google.colaboratory.intrinsic+json": {
              "type": "string"
            }
          },
          "metadata": {},
          "execution_count": 45
        }
      ]
    },
    {
      "cell_type": "code",
      "source": [
        "email[0:4].capitalize()"
      ],
      "metadata": {
        "colab": {
          "base_uri": "https://localhost:8080/",
          "height": 35
        },
        "id": "YTErlZyxFpgM",
        "outputId": "43cc7f0d-ba9c-4c84-ea31-52fa08b3b35e"
      },
      "execution_count": null,
      "outputs": [
        {
          "output_type": "execute_result",
          "data": {
            "text/plain": [
              "'Dea'"
            ],
            "application/vnd.google.colaboratory.intrinsic+json": {
              "type": "string"
            }
          },
          "metadata": {},
          "execution_count": 50
        }
      ]
    },
    {
      "cell_type": "code",
      "source": [
        "email=\"DEAR PROFESSOR\"\n",
        "p1=email[0:4].upper()\n",
        "p2=email[5:15].lower()\n",
        "email=p1+p2\n",
        "print(email)"
      ],
      "metadata": {
        "colab": {
          "base_uri": "https://localhost:8080/"
        },
        "id": "_uzOR27VF1N2",
        "outputId": "210f0495-bfd2-41fb-d40d-84ac19346d52"
      },
      "execution_count": null,
      "outputs": [
        {
          "output_type": "stream",
          "name": "stdout",
          "text": [
            "DEARprofessor\n"
          ]
        }
      ]
    },
    {
      "cell_type": "code",
      "source": [
        "#using replace function\n",
        "stri=\"In type casting, the compiler automatically changes one data type to another one depending on what we want the program to do. For instance, in case we assign a float variable (floating point) with an integer (int) value, the compiler will ultimately convert this int value into the float value.\"\n",
        "stri.replace(\"type\",\"tipe\")"
      ],
      "metadata": {
        "colab": {
          "base_uri": "https://localhost:8080/",
          "height": 87
        },
        "id": "ahEVxLmzoGtg",
        "outputId": "bb920d7d-13f0-44dd-8569-bf7687b19c8f"
      },
      "execution_count": null,
      "outputs": [
        {
          "output_type": "execute_result",
          "data": {
            "text/plain": [
              "'In tipe casting, the compiler automatically changes one data tipe to another one depending on what we want the program to do. For instance, in case we assign a float variable (floating point) with an integer (int) value, the compiler will ultimately convert this int value into the float value.'"
            ],
            "application/vnd.google.colaboratory.intrinsic+json": {
              "type": "string"
            }
          },
          "metadata": {},
          "execution_count": 69
        }
      ]
    },
    {
      "cell_type": "code",
      "source": [
        "#if we use the count function in replace function it will replace the character with our specified answer\n",
        "stri.replace(\"a\",\"b\",5)"
      ],
      "metadata": {
        "colab": {
          "base_uri": "https://localhost:8080/",
          "height": 87
        },
        "id": "B6ROW74XosW_",
        "outputId": "d7dc7d72-842a-4185-9bff-af204b2c3f44"
      },
      "execution_count": null,
      "outputs": [
        {
          "output_type": "execute_result",
          "data": {
            "text/plain": [
              "'In type cbsting, the compiler butombticblly chbnges one data type to another one depending on what we want the program to do. For instance, in case we assign a float variable (floating point) with an integer (int) value, the compiler will ultimately convert this int value into the float value.'"
            ],
            "application/vnd.google.colaboratory.intrinsic+json": {
              "type": "string"
            }
          },
          "metadata": {},
          "execution_count": 72
        }
      ]
    },
    {
      "cell_type": "markdown",
      "source": [
        "Day-3\n",
        "revision of day-2"
      ],
      "metadata": {
        "id": "b5YiFZ5cHqvO"
      }
    },
    {
      "cell_type": "code",
      "source": [
        "#convert the string data type into a integer datatype\n",
        "a=int(input(a))\n",
        "type(a)\n",
        "type(str(a))\n"
      ],
      "metadata": {
        "colab": {
          "base_uri": "https://localhost:8080/"
        },
        "id": "gs7fVIQlHy-Z",
        "outputId": "68664d26-7e6a-4157-e41f-b0dc03fadacd"
      },
      "execution_count": null,
      "outputs": [
        {
          "name": "stdout",
          "output_type": "stream",
          "text": [
            "325\n"
          ]
        },
        {
          "output_type": "execute_result",
          "data": {
            "text/plain": [
              "str"
            ]
          },
          "metadata": {},
          "execution_count": 55
        }
      ]
    },
    {
      "cell_type": "code",
      "source": [
        "#take  two input from the user and perform the operation(a+b)-(-a)\n",
        "a=int(input(\"give the value of a  \"))\n",
        "b=int(input(\"give the value of b  \"))\n",
        "(a+b)-(-a)"
      ],
      "metadata": {
        "colab": {
          "base_uri": "https://localhost:8080/"
        },
        "id": "yk9ZBNsgIDZg",
        "outputId": "c66a2a06-90e6-47f8-c1ab-fda749639ca3"
      },
      "execution_count": null,
      "outputs": [
        {
          "name": "stdout",
          "output_type": "stream",
          "text": [
            "give the value of a  15\n",
            "give the value of b  15\n"
          ]
        },
        {
          "output_type": "execute_result",
          "data": {
            "text/plain": [
              "45"
            ]
          },
          "metadata": {},
          "execution_count": 56
        }
      ]
    },
    {
      "cell_type": "code",
      "source": [
        "stri=\"welcome.print\"\n",
        "print(stri*9)"
      ],
      "metadata": {
        "colab": {
          "base_uri": "https://localhost:8080/"
        },
        "id": "uHkIGqd7LeT6",
        "outputId": "72213e9f-02e8-4107-a96d-1ac0416b34ee"
      },
      "execution_count": null,
      "outputs": [
        {
          "output_type": "stream",
          "name": "stdout",
          "text": [
            "welcome.printwelcome.printwelcome.printwelcome.printwelcome.printwelcome.printwelcome.printwelcome.printwelcome.print\n"
          ]
        }
      ]
    },
    {
      "cell_type": "code",
      "source": [
        "stri=\"example\"\n",
        "print(stri.center(11,'*'))"
      ],
      "metadata": {
        "colab": {
          "base_uri": "https://localhost:8080/"
        },
        "id": "OVpvlZ1Pirib",
        "outputId": "d39a292c-0e6d-4f2a-e771-f6807ad51050"
      },
      "execution_count": null,
      "outputs": [
        {
          "output_type": "stream",
          "name": "stdout",
          "text": [
            "**example**\n"
          ]
        }
      ]
    },
    {
      "cell_type": "markdown",
      "source": [
        "# DAy-3"
      ],
      "metadata": {
        "id": "kzDQADqVh1lo"
      }
    },
    {
      "cell_type": "markdown",
      "source": [
        "# Data Structures in python\n",
        "organising,structuring,collection,storing,managing\n"
      ],
      "metadata": {
        "id": "-7Bm1b_Ip56h"
      }
    },
    {
      "cell_type": "markdown",
      "source": [
        "1.list\n",
        "2.tuple\n",
        "3.dict\n",
        "4.set"
      ],
      "metadata": {
        "id": "Q_AvuyzqsTXi"
      }
    },
    {
      "cell_type": "code",
      "source": [],
      "metadata": {
        "id": "xOBnMVC_sZxj"
      },
      "execution_count": null,
      "outputs": []
    },
    {
      "cell_type": "markdown",
      "source": [
        "# List\n",
        "1. python data structure\n",
        "2. mutable->CRUD( c-> create,R->read,U->update,D->delete)\n",
        "3. store hetrogenous data-> different data types\n",
        "4. It allows duplicate value"
      ],
      "metadata": {
        "id": "ybveDaLJ17FE"
      }
    },
    {
      "cell_type": "code",
      "source": [
        "groceries=[\"potato\",\"tomato\",\"peas\",\"onion\",\"brinjal\",\"cucumber\",\"carrot\",\"banana\"]\n",
        "type(groceries)"
      ],
      "metadata": {
        "colab": {
          "base_uri": "https://localhost:8080/"
        },
        "id": "MFl6WAnS-yTi",
        "outputId": "6673ebaa-b354-4b87-e03a-af43b9f90e3c"
      },
      "execution_count": 1,
      "outputs": [
        {
          "output_type": "execute_result",
          "data": {
            "text/plain": [
              "list"
            ]
          },
          "metadata": {},
          "execution_count": 1
        }
      ]
    },
    {
      "cell_type": "code",
      "source": [
        "groceries"
      ],
      "metadata": {
        "colab": {
          "base_uri": "https://localhost:8080/"
        },
        "id": "mEQ2iiaMAWRW",
        "outputId": "710c5e46-e2ce-4e49-ec2c-5dea3456038c"
      },
      "execution_count": 2,
      "outputs": [
        {
          "output_type": "execute_result",
          "data": {
            "text/plain": [
              "['potato',\n",
              " 'tomato',\n",
              " 'peas',\n",
              " 'onion',\n",
              " 'brinjal',\n",
              " 'cucumber',\n",
              " 'carrot',\n",
              " 'banana']"
            ]
          },
          "metadata": {},
          "execution_count": 2
        }
      ]
    },
    {
      "cell_type": "code",
      "source": [
        "groceries[4]"
      ],
      "metadata": {
        "colab": {
          "base_uri": "https://localhost:8080/",
          "height": 35
        },
        "id": "LutG7CpRAvaD",
        "outputId": "b1761288-bd39-437f-81f4-06aac773176f"
      },
      "execution_count": 33,
      "outputs": [
        {
          "output_type": "execute_result",
          "data": {
            "text/plain": [
              "'brinjal'"
            ],
            "application/vnd.google.colaboratory.intrinsic+json": {
              "type": "string"
            }
          },
          "metadata": {},
          "execution_count": 33
        }
      ]
    },
    {
      "cell_type": "code",
      "source": [
        "groceries[-2]"
      ],
      "metadata": {
        "colab": {
          "base_uri": "https://localhost:8080/",
          "height": 35
        },
        "id": "k5TNMbFQA8o_",
        "outputId": "1258dce3-238d-4dc0-9984-ece53e5e754b"
      },
      "execution_count": 34,
      "outputs": [
        {
          "output_type": "execute_result",
          "data": {
            "text/plain": [
              "'milk'"
            ],
            "application/vnd.google.colaboratory.intrinsic+json": {
              "type": "string"
            }
          },
          "metadata": {},
          "execution_count": 34
        }
      ]
    },
    {
      "cell_type": "code",
      "source": [
        "print(groceries[2])\n",
        "print(groceries[-2])\n",
        "print(groceries[2:6])"
      ],
      "metadata": {
        "colab": {
          "base_uri": "https://localhost:8080/"
        },
        "id": "BltqWSoHA_Yp",
        "outputId": "f7b06123-a467-4bb6-c897-54c729a58fa7"
      },
      "execution_count": 32,
      "outputs": [
        {
          "output_type": "stream",
          "name": "stdout",
          "text": [
            "dhaniya\n",
            "milk\n",
            "['dhaniya', 'onion', 'brinjal', 'cucumber']\n"
          ]
        }
      ]
    },
    {
      "cell_type": "code",
      "source": [
        "stri=\"hello world\"\n",
        "stri[0:9:2]\n",
        "\n"
      ],
      "metadata": {
        "id": "glL4d2trBbS2",
        "colab": {
          "base_uri": "https://localhost:8080/",
          "height": 35
        },
        "outputId": "b9ec6887-0311-41d5-e57e-54898a24cb86"
      },
      "execution_count": 31,
      "outputs": [
        {
          "output_type": "execute_result",
          "data": {
            "text/plain": [
              "'hlowr'"
            ],
            "application/vnd.google.colaboratory.intrinsic+json": {
              "type": "string"
            }
          },
          "metadata": {},
          "execution_count": 31
        }
      ]
    },
    {
      "cell_type": "code",
      "source": [
        "groceries[2]=\"dhaniya\"\n",
        "groceries"
      ],
      "metadata": {
        "colab": {
          "base_uri": "https://localhost:8080/"
        },
        "id": "p4dXViTJQuA8",
        "outputId": "451f703c-78ac-424a-e3ce-8e6c894c9cfe"
      },
      "execution_count": 35,
      "outputs": [
        {
          "output_type": "execute_result",
          "data": {
            "text/plain": [
              "['potato',\n",
              " 'tomato',\n",
              " 'dhaniya',\n",
              " 'onion',\n",
              " 'brinjal',\n",
              " 'cucumber',\n",
              " 'carrot',\n",
              " 'banana',\n",
              " 'milk',\n",
              " 'milk',\n",
              " 'milk',\n",
              " 'milk',\n",
              " 'milk']"
            ]
          },
          "metadata": {},
          "execution_count": 35
        }
      ]
    },
    {
      "cell_type": "markdown",
      "source": [
        "three ways to add items into the list they are\n",
        "\n",
        "1.   append()-> add element to the list in the end\n",
        "2.   extend() -> add elements of two or more dictonary into one\n",
        "3. insert-> add elements to a certain index number\n",
        "\n",
        "\n"
      ],
      "metadata": {
        "id": "rcfujJHfRY0p"
      }
    },
    {
      "cell_type": "code",
      "source": [
        "groceries.append(\"biscuts\")\n",
        "\n"
      ],
      "metadata": {
        "id": "_z1cggClRUCy"
      },
      "execution_count": 37,
      "outputs": []
    },
    {
      "cell_type": "code",
      "source": [
        "groceries"
      ],
      "metadata": {
        "colab": {
          "base_uri": "https://localhost:8080/"
        },
        "id": "INo54vB5RufL",
        "outputId": "5dbf06ba-6563-4350-bf7c-ddc2352ad585"
      },
      "execution_count": 38,
      "outputs": [
        {
          "output_type": "execute_result",
          "data": {
            "text/plain": [
              "['potato',\n",
              " 'tomato',\n",
              " 'dhaniya',\n",
              " 'onion',\n",
              " 'brinjal',\n",
              " 'cucumber',\n",
              " 'carrot',\n",
              " 'banana',\n",
              " 'milk',\n",
              " 'milk',\n",
              " 'milk',\n",
              " 'milk',\n",
              " 'milk',\n",
              " 'biscuts']"
            ]
          },
          "metadata": {},
          "execution_count": 38
        }
      ]
    },
    {
      "cell_type": "code",
      "source": [
        "#groceries.insert(index,element)\n",
        "groceries.insert(4,\"cuurd\")"
      ],
      "metadata": {
        "id": "5Uyzh9uoSN27"
      },
      "execution_count": 39,
      "outputs": []
    },
    {
      "cell_type": "code",
      "source": [
        "groceries"
      ],
      "metadata": {
        "colab": {
          "base_uri": "https://localhost:8080/"
        },
        "id": "IAaaSZrESnaT",
        "outputId": "cda1c3b8-14b1-446f-811e-4ccf5a9cae86"
      },
      "execution_count": 40,
      "outputs": [
        {
          "output_type": "execute_result",
          "data": {
            "text/plain": [
              "['potato',\n",
              " 'tomato',\n",
              " 'dhaniya',\n",
              " 'onion',\n",
              " 'cuurd',\n",
              " 'brinjal',\n",
              " 'cucumber',\n",
              " 'carrot',\n",
              " 'banana',\n",
              " 'milk',\n",
              " 'milk',\n",
              " 'milk',\n",
              " 'milk',\n",
              " 'milk',\n",
              " 'biscuts']"
            ]
          },
          "metadata": {},
          "execution_count": 40
        }
      ]
    },
    {
      "cell_type": "code",
      "source": [
        "groceries"
      ],
      "metadata": {
        "id": "uQyw9vXOSoP1"
      },
      "execution_count": null,
      "outputs": []
    },
    {
      "cell_type": "code",
      "source": [
        "elec=[\"laptop\",\"speaker\",\"microphone\"]\n",
        "games=[\"cod\",\"pubg\",\"rdr\",\"run\",\"coc\"]\n",
        "elec.extend(games)\n"
      ],
      "metadata": {
        "id": "UtqCc1j3TEnk"
      },
      "execution_count": 52,
      "outputs": []
    },
    {
      "cell_type": "code",
      "source": [
        "games"
      ],
      "metadata": {
        "colab": {
          "base_uri": "https://localhost:8080/"
        },
        "id": "Y2q-FbYVTvG-",
        "outputId": "500311be-5066-449e-c99c-60f25cf7491b"
      },
      "execution_count": 53,
      "outputs": [
        {
          "output_type": "execute_result",
          "data": {
            "text/plain": [
              "['cod', 'pubg', 'rdr', 'run', 'coc']"
            ]
          },
          "metadata": {},
          "execution_count": 53
        }
      ]
    },
    {
      "cell_type": "code",
      "source": [
        "elec\n"
      ],
      "metadata": {
        "colab": {
          "base_uri": "https://localhost:8080/"
        },
        "id": "ZIj97znoTymu",
        "outputId": "e7a6f09f-c872-4c07-a827-fefc6cf49af3"
      },
      "execution_count": 54,
      "outputs": [
        {
          "output_type": "execute_result",
          "data": {
            "text/plain": [
              "['laptop', 'speaker', 'microphone', 'cod', 'pubg', 'rdr', 'run', 'coc']"
            ]
          },
          "metadata": {},
          "execution_count": 54
        }
      ]
    },
    {
      "cell_type": "markdown",
      "source": [
        "to perform deletion\n",
        "\n",
        "1. remove()\n",
        "2.   pop\n",
        "3.   del"
      ],
      "metadata": {
        "id": "4TTYC293VCt_"
      }
    },
    {
      "cell_type": "code",
      "source": [
        "elec.remove(\"rdr\")\n"
      ],
      "metadata": {
        "id": "H81ik6WZT16j"
      },
      "execution_count": 55,
      "outputs": []
    },
    {
      "cell_type": "code",
      "source": [
        "elec"
      ],
      "metadata": {
        "colab": {
          "base_uri": "https://localhost:8080/"
        },
        "id": "hOzVft1TVkCe",
        "outputId": "e54514b6-e1f3-4de1-e080-72b6b79dc1d0"
      },
      "execution_count": 56,
      "outputs": [
        {
          "output_type": "execute_result",
          "data": {
            "text/plain": [
              "['laptop', 'speaker', 'microphone', 'cod', 'pubg', 'run', 'coc']"
            ]
          },
          "metadata": {},
          "execution_count": 56
        }
      ]
    },
    {
      "cell_type": "code",
      "source": [
        "elec.pop(-1)"
      ],
      "metadata": {
        "colab": {
          "base_uri": "https://localhost:8080/",
          "height": 35
        },
        "id": "m8PZSQvxVyWK",
        "outputId": "4b3d7eb9-2804-4ab3-8e8e-fff11d185ee2"
      },
      "execution_count": 59,
      "outputs": [
        {
          "output_type": "execute_result",
          "data": {
            "text/plain": [
              "'coc'"
            ],
            "application/vnd.google.colaboratory.intrinsic+json": {
              "type": "string"
            }
          },
          "metadata": {},
          "execution_count": 59
        }
      ]
    },
    {
      "cell_type": "code",
      "source": [
        "elec"
      ],
      "metadata": {
        "colab": {
          "base_uri": "https://localhost:8080/"
        },
        "id": "IgAHVsFRV5I7",
        "outputId": "14212a6c-1b73-4856-afe4-aa972f1391ae"
      },
      "execution_count": 60,
      "outputs": [
        {
          "output_type": "execute_result",
          "data": {
            "text/plain": [
              "['laptop', 'speaker', 'microphone', 'cod', 'pubg', 'run']"
            ]
          },
          "metadata": {},
          "execution_count": 60
        }
      ]
    },
    {
      "cell_type": "code",
      "source": [
        "elec.pop()"
      ],
      "metadata": {
        "colab": {
          "base_uri": "https://localhost:8080/",
          "height": 35
        },
        "id": "_tWQwAc9WBeM",
        "outputId": "e73dd73a-b45d-4e48-d26e-08892cc4bdba"
      },
      "execution_count": 63,
      "outputs": [
        {
          "output_type": "execute_result",
          "data": {
            "text/plain": [
              "'run'"
            ],
            "application/vnd.google.colaboratory.intrinsic+json": {
              "type": "string"
            }
          },
          "metadata": {},
          "execution_count": 63
        }
      ]
    },
    {
      "cell_type": "code",
      "source": [
        "elec"
      ],
      "metadata": {
        "colab": {
          "base_uri": "https://localhost:8080/"
        },
        "id": "3xdnZUbPWQlP",
        "outputId": "621123ba-a768-4a5a-95f6-52f77d41c1d3"
      },
      "execution_count": 64,
      "outputs": [
        {
          "output_type": "execute_result",
          "data": {
            "text/plain": [
              "['laptop', 'speaker', 'microphone', 'cod', 'pubg']"
            ]
          },
          "metadata": {},
          "execution_count": 64
        }
      ]
    },
    {
      "cell_type": "code",
      "source": [],
      "metadata": {
        "id": "-lBtGrdHWSrg"
      },
      "execution_count": null,
      "outputs": []
    }
  ]
}